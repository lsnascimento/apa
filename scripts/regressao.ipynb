{
 "cells": [
  {
   "cell_type": "markdown",
   "metadata": {
    "colab_type": "text",
    "id": "gqxh8b_65xek"
   },
   "source": [
    "# Análise Preditiva Avançada\n"
   ]
  },
  {
   "cell_type": "markdown",
   "metadata": {
    "colab_type": "text",
    "id": "9TmThNiMv9PI"
   },
   "source": [
    "# Preparação dos dados para análise"
   ]
  },
  {
   "cell_type": "markdown",
   "metadata": {
    "colab_type": "text",
    "id": "HX8eJY_VQEAJ"
   },
   "source": [
    "## Bibliotecas"
   ]
  },
  {
   "cell_type": "code",
   "execution_count": 1,
   "metadata": {
    "colab": {},
    "colab_type": "code",
    "id": "Sw3IUXVEQEAK"
   },
   "outputs": [],
   "source": [
    "import pandas as pd\n",
    "import numpy as np\n",
    "import warnings\n",
    "import pickle\n",
    "import matplotlib.pyplot as plt\n",
    "import seaborn as sns\n",
    "\n",
    "from scipy.stats import probplot, norm\n",
    "\n",
    "from sklearn.preprocessing import Normalizer\n",
    "from sklearn.preprocessing import MinMaxScaler\n",
    "from sklearn.preprocessing import StandardScaler\n",
    "\n",
    "from scipy.stats import zscore\n",
    "\n",
    "from sklearn.model_selection import train_test_split\n",
    "\n",
    "from sklearn.externals import joblib\n",
    "\n",
    "warnings.filterwarnings('ignore')\n",
    "\n",
    "pd.set_option('display.float_format', '{:.2f}'.format)"
   ]
  },
  {
   "cell_type": "code",
   "execution_count": 2,
   "metadata": {
    "colab": {},
    "colab_type": "code",
    "id": "1njGie-YRVEW"
   },
   "outputs": [],
   "source": [
    "from sklearn.pipeline import Pipeline\n",
    "\n",
    "from sklearn.linear_model import LinearRegression\n",
    "from sklearn.linear_model import ElasticNet\n",
    "\n",
    "from sklearn.tree import DecisionTreeRegressor\n",
    "\n",
    "from sklearn.ensemble import RandomForestRegressor\n",
    "\n",
    "from sklearn.svm import SVR\n",
    "\n",
    "from sklearn.model_selection import cross_val_predict\n",
    "from sklearn.model_selection import GridSearchCV\n",
    "\n",
    "from sklearn.metrics import mean_squared_error\n",
    "from sklearn.metrics import mean_absolute_error\n",
    "from sklearn.metrics import r2_score"
   ]
  },
  {
   "cell_type": "markdown",
   "metadata": {
    "colab_type": "text",
    "id": "XtsokcZ2QEAO"
   },
   "source": [
    "## Carregamento do dataset"
   ]
  },
  {
   "cell_type": "code",
   "execution_count": 67,
   "metadata": {
    "colab": {},
    "colab_type": "code",
    "id": "jAVfe0gQQEAP"
   },
   "outputs": [],
   "source": [
    "df = pd.read_csv('https://raw.githubusercontent.com/lsnascimento/apa/master/input/Retail.csv', parse_dates=['Date'], na_values=['#N/D'])\n",
    "df_copy = df.copy()"
   ]
  },
  {
   "cell_type": "code",
   "execution_count": 68,
   "metadata": {
    "colab": {},
    "colab_type": "code",
    "id": "uStd28PAVSKz"
   },
   "outputs": [],
   "source": [
    "seed = 314"
   ]
  },
  {
   "cell_type": "markdown",
   "metadata": {
    "colab_type": "text",
    "id": "1XzRRDwKQEAR"
   },
   "source": [
    "## Métodos"
   ]
  },
  {
   "cell_type": "code",
   "execution_count": 5,
   "metadata": {
    "colab": {},
    "colab_type": "code",
    "id": "vfbShGAvQEAS"
   },
   "outputs": [],
   "source": [
    "def count_null(data):\n",
    "    count = data.isnull().sum()\n",
    "    perc = data.isnull().sum() / df.shape[0] * 100\n",
    "    \n",
    "    df_nulls = pd.DataFrame({\n",
    "        'Count': count,\n",
    "        'Percentage': round(perc, 2)\n",
    "    })\n",
    "    \n",
    "    return df_nulls[df_nulls['Count'] > 0].sort_values(by='Count', ascending=False)"
   ]
  },
  {
   "cell_type": "code",
   "execution_count": 6,
   "metadata": {
    "colab": {},
    "colab_type": "code",
    "id": "fJHiT1M0QEAV"
   },
   "outputs": [],
   "source": [
    "def remove_outlier(data):\n",
    "    Q1 = data.quantile(0.25)\n",
    "    Q3 = data.quantile(0.75)\n",
    "    IQR = Q3 - Q1\n",
    "\n",
    "    return data[\n",
    "        ~((data < (Q1 - 1.5 * IQR)) | (data > (Q3 + 1.5 * IQR))).any(axis=1)\n",
    "    ]"
   ]
  },
  {
   "cell_type": "code",
   "execution_count": 78,
   "metadata": {
    "colab": {},
    "colab_type": "code",
    "id": "O9jvzGg-QEAY"
   },
   "outputs": [],
   "source": [
    "def plot_num(title, data, tipo='dist'):\n",
    "    nrow = 2\n",
    "    ncol = 3\n",
    "\n",
    "    current_row = 0\n",
    "    current_col = 0\n",
    "\n",
    "    fig, axs = plt.subplots(nrow, ncol, figsize=(16, 10))\n",
    "\n",
    "    fig.suptitle(title, y=1.05, fontsize=18)\n",
    "\n",
    "    for k, v in enumerate(data.columns): \n",
    "        if k == ncol:\n",
    "            current_row += 1\n",
    "            current_col = 0\n",
    "\n",
    "        if tipo == 'dist':\n",
    "            sns.distplot(data[v], ax=axs[current_row, current_col])\n",
    "        else:\n",
    "            sns.boxplot(orient='v', data=data[v], ax=axs[current_row, current_col])\n",
    "            \n",
    "        axs[current_row, current_col].set_xlabel(v)\n",
    "\n",
    "        current_col += 1\n",
    "\n",
    "    plt.tight_layout()\n",
    "\n",
    "    plt.show()"
   ]
  },
  {
   "cell_type": "code",
   "execution_count": 8,
   "metadata": {},
   "outputs": [],
   "source": [
    "def model_accuracy(model, data, target):\n",
    "    cv_results = cross_val_predict(model, data, target, cv=10)\n",
    "\n",
    "    RMSE = np.sqrt(mean_squared_error(target, cv_results))\n",
    "    MAE = mean_absolute_error(target, cv_results)\n",
    "    R2 = r2_score(target, cv_results)\n",
    "    \n",
    "    return {\n",
    "        'RMSE': RMSE,\n",
    "        'MAE': MAE,\n",
    "        'R2': R2\n",
    "    }"
   ]
  },
  {
   "cell_type": "code",
   "execution_count": 9,
   "metadata": {},
   "outputs": [],
   "source": [
    "def plot_metrics(data, metric=None):\n",
    "    data_plot = dict()\n",
    "\n",
    "    for modelo, resultado in data:\n",
    "        data_plot[modelo] = resultado\n",
    "        \n",
    "    df_plot = pd.DataFrame(data_plot)\n",
    "        \n",
    "    if metric is None:\n",
    "        df_plot_ordered = df_plot.sort_values(by=metric, ascending=False)\n",
    "    elif metric not in df_plot.index:\n",
    "        raise ValueError('Métrica {!r} não encontrada'.format(metric))\n",
    "    else:\n",
    "        df_plot_ordered = df_plot.loc[metric].to_frame().sort_values(by=metric)\n",
    "    \n",
    "    '''\n",
    "    PLOT\n",
    "    '''\n",
    "    width = 0.8\n",
    "    \n",
    "    x_bar = np.arange(df_plot_ordered.shape[0])\n",
    "    y_bar = df_plot_ordered.values.reshape(-1)\n",
    "    cols = df_plot_ordered.index\n",
    "    \n",
    "    _, ax = plt.subplots(figsize=(12, 6))\n",
    "    \n",
    "    print(df_plot_ordered)\n",
    "    \n",
    "    p1 = ax.bar(\n",
    "        x_bar, \n",
    "        y_bar, \n",
    "        width\n",
    "    )\n",
    "    \n",
    "    ax.set_xlabel('Models')\n",
    "    ax.set_xticks(x_bar)\n",
    "    ax.set_xticklabels(cols)\n",
    "    \n",
    "    ax.set_ylabel('Scores')\n",
    "    \n",
    "    for rect in p1:\n",
    "        height = rect.get_height()\n",
    "        \n",
    "        ax.annotate(\n",
    "            '{:.3f}'.format(height),\n",
    "            xy=(rect.get_x() + rect.get_width() / 2.4, height),\n",
    "            xytext=(0, 3),\n",
    "            textcoords='offset points'\n",
    "        )\n",
    "        \n",
    "    plt.title('Avaliação da métrica %s' % metric, fontsize=18)\n",
    "    \n",
    "    plt.show()"
   ]
  },
  {
   "cell_type": "markdown",
   "metadata": {
    "colab_type": "text",
    "id": "dyU94s56QEAb"
   },
   "source": [
    "# Análise Exploratória dos Dados\n",
    "\n",
    "## Conhecimento do dataset"
   ]
  },
  {
   "cell_type": "code",
   "execution_count": 8,
   "metadata": {
    "colab": {
     "base_uri": "https://localhost:8080/",
     "height": 197
    },
    "colab_type": "code",
    "executionInfo": {
     "elapsed": 575,
     "status": "ok",
     "timestamp": 1567717101883,
     "user": {
      "displayName": "Leonardo Silva do Nascimento",
      "photoUrl": "https://lh3.googleusercontent.com/a-/AAuE7mBfPjf6kUTebmVb6nGFV6eWEBcWlC8wn9u0XC1TEg=s64",
      "userId": "10422304398321499472"
     },
     "user_tz": 180
    },
    "id": "d8_9qCdaQEAc",
    "outputId": "73b829f1-a9fd-4716-a6c6-31e37fdfdb2a"
   },
   "outputs": [
    {
     "data": {
      "text/html": [
       "<div>\n",
       "<style scoped>\n",
       "    .dataframe tbody tr th:only-of-type {\n",
       "        vertical-align: middle;\n",
       "    }\n",
       "\n",
       "    .dataframe tbody tr th {\n",
       "        vertical-align: top;\n",
       "    }\n",
       "\n",
       "    .dataframe thead th {\n",
       "        text-align: right;\n",
       "    }\n",
       "</style>\n",
       "<table border=\"1\" class=\"dataframe\">\n",
       "  <thead>\n",
       "    <tr style=\"text-align: right;\">\n",
       "      <th></th>\n",
       "      <th>Store</th>\n",
       "      <th>Date</th>\n",
       "      <th>Temperature</th>\n",
       "      <th>Fuel_Price</th>\n",
       "      <th>MarkDown1</th>\n",
       "      <th>MarkDown2</th>\n",
       "      <th>MarkDown3</th>\n",
       "      <th>MarkDown4</th>\n",
       "      <th>MarkDown5</th>\n",
       "      <th>CPI</th>\n",
       "      <th>Unemployment</th>\n",
       "      <th>IsHoliday</th>\n",
       "      <th>Weekly_Sales</th>\n",
       "    </tr>\n",
       "  </thead>\n",
       "  <tbody>\n",
       "    <tr>\n",
       "      <th>0</th>\n",
       "      <td>1</td>\n",
       "      <td>2010-05-02</td>\n",
       "      <td>42.31</td>\n",
       "      <td>2.57</td>\n",
       "      <td>nan</td>\n",
       "      <td>nan</td>\n",
       "      <td>nan</td>\n",
       "      <td>nan</td>\n",
       "      <td>nan</td>\n",
       "      <td>211.10</td>\n",
       "      <td>8.11</td>\n",
       "      <td>False</td>\n",
       "      <td>1643690.90</td>\n",
       "    </tr>\n",
       "    <tr>\n",
       "      <th>1</th>\n",
       "      <td>1</td>\n",
       "      <td>2010-12-02</td>\n",
       "      <td>38.51</td>\n",
       "      <td>2.55</td>\n",
       "      <td>nan</td>\n",
       "      <td>nan</td>\n",
       "      <td>nan</td>\n",
       "      <td>nan</td>\n",
       "      <td>nan</td>\n",
       "      <td>211.24</td>\n",
       "      <td>8.11</td>\n",
       "      <td>True</td>\n",
       "      <td>1641957.44</td>\n",
       "    </tr>\n",
       "    <tr>\n",
       "      <th>2</th>\n",
       "      <td>1</td>\n",
       "      <td>2010-02-19</td>\n",
       "      <td>39.93</td>\n",
       "      <td>2.51</td>\n",
       "      <td>nan</td>\n",
       "      <td>nan</td>\n",
       "      <td>nan</td>\n",
       "      <td>nan</td>\n",
       "      <td>nan</td>\n",
       "      <td>211.29</td>\n",
       "      <td>8.11</td>\n",
       "      <td>False</td>\n",
       "      <td>1611968.17</td>\n",
       "    </tr>\n",
       "    <tr>\n",
       "      <th>3</th>\n",
       "      <td>1</td>\n",
       "      <td>2010-02-26</td>\n",
       "      <td>46.63</td>\n",
       "      <td>2.56</td>\n",
       "      <td>nan</td>\n",
       "      <td>nan</td>\n",
       "      <td>nan</td>\n",
       "      <td>nan</td>\n",
       "      <td>nan</td>\n",
       "      <td>211.32</td>\n",
       "      <td>8.11</td>\n",
       "      <td>False</td>\n",
       "      <td>1409727.59</td>\n",
       "    </tr>\n",
       "    <tr>\n",
       "      <th>4</th>\n",
       "      <td>1</td>\n",
       "      <td>2010-05-03</td>\n",
       "      <td>46.50</td>\n",
       "      <td>2.62</td>\n",
       "      <td>nan</td>\n",
       "      <td>nan</td>\n",
       "      <td>nan</td>\n",
       "      <td>nan</td>\n",
       "      <td>nan</td>\n",
       "      <td>211.35</td>\n",
       "      <td>8.11</td>\n",
       "      <td>False</td>\n",
       "      <td>1554806.68</td>\n",
       "    </tr>\n",
       "  </tbody>\n",
       "</table>\n",
       "</div>"
      ],
      "text/plain": [
       "   Store       Date  Temperature  Fuel_Price  MarkDown1  MarkDown2  MarkDown3  \\\n",
       "0      1 2010-05-02        42.31        2.57        nan        nan        nan   \n",
       "1      1 2010-12-02        38.51        2.55        nan        nan        nan   \n",
       "2      1 2010-02-19        39.93        2.51        nan        nan        nan   \n",
       "3      1 2010-02-26        46.63        2.56        nan        nan        nan   \n",
       "4      1 2010-05-03        46.50        2.62        nan        nan        nan   \n",
       "\n",
       "   MarkDown4  MarkDown5    CPI  Unemployment  IsHoliday  Weekly_Sales  \n",
       "0        nan        nan 211.10          8.11      False    1643690.90  \n",
       "1        nan        nan 211.24          8.11       True    1641957.44  \n",
       "2        nan        nan 211.29          8.11      False    1611968.17  \n",
       "3        nan        nan 211.32          8.11      False    1409727.59  \n",
       "4        nan        nan 211.35          8.11      False    1554806.68  "
      ]
     },
     "execution_count": 8,
     "metadata": {},
     "output_type": "execute_result"
    }
   ],
   "source": [
    "df.head()"
   ]
  },
  {
   "cell_type": "code",
   "execution_count": 9,
   "metadata": {
    "colab": {
     "base_uri": "https://localhost:8080/",
     "height": 34
    },
    "colab_type": "code",
    "executionInfo": {
     "elapsed": 818,
     "status": "ok",
     "timestamp": 1567717104254,
     "user": {
      "displayName": "Leonardo Silva do Nascimento",
      "photoUrl": "https://lh3.googleusercontent.com/a-/AAuE7mBfPjf6kUTebmVb6nGFV6eWEBcWlC8wn9u0XC1TEg=s64",
      "userId": "10422304398321499472"
     },
     "user_tz": 180
    },
    "id": "tf2TnMkGQEAf",
    "outputId": "f2e43798-a4b1-4a8c-a9ca-2fac8380c714"
   },
   "outputs": [
    {
     "data": {
      "text/plain": [
       "(8190, 13)"
      ]
     },
     "execution_count": 9,
     "metadata": {},
     "output_type": "execute_result"
    }
   ],
   "source": [
    "df.shape"
   ]
  },
  {
   "cell_type": "code",
   "execution_count": 10,
   "metadata": {
    "colab": {
     "base_uri": "https://localhost:8080/",
     "height": 336
    },
    "colab_type": "code",
    "executionInfo": {
     "elapsed": 568,
     "status": "ok",
     "timestamp": 1567717104255,
     "user": {
      "displayName": "Leonardo Silva do Nascimento",
      "photoUrl": "https://lh3.googleusercontent.com/a-/AAuE7mBfPjf6kUTebmVb6nGFV6eWEBcWlC8wn9u0XC1TEg=s64",
      "userId": "10422304398321499472"
     },
     "user_tz": 180
    },
    "id": "XiFhbDLDQEAj",
    "outputId": "233778e8-0423-40e5-aae6-c23ae6948800"
   },
   "outputs": [
    {
     "name": "stdout",
     "output_type": "stream",
     "text": [
      "<class 'pandas.core.frame.DataFrame'>\n",
      "RangeIndex: 8190 entries, 0 to 8189\n",
      "Data columns (total 13 columns):\n",
      "Store           8190 non-null int64\n",
      "Date            8190 non-null datetime64[ns]\n",
      "Temperature     8190 non-null float64\n",
      "Fuel_Price      8190 non-null float64\n",
      "MarkDown1       4032 non-null float64\n",
      "MarkDown2       2921 non-null float64\n",
      "MarkDown3       3613 non-null float64\n",
      "MarkDown4       3464 non-null float64\n",
      "MarkDown5       4050 non-null float64\n",
      "CPI             7605 non-null float64\n",
      "Unemployment    7605 non-null float64\n",
      "IsHoliday       8190 non-null bool\n",
      "Weekly_Sales    6435 non-null float64\n",
      "dtypes: bool(1), datetime64[ns](1), float64(10), int64(1)\n",
      "memory usage: 775.9 KB\n"
     ]
    }
   ],
   "source": [
    "df.info()"
   ]
  },
  {
   "cell_type": "markdown",
   "metadata": {
    "colab_type": "text",
    "id": "zsIDUtsAwfwX"
   },
   "source": [
    "## Estatística descritiva"
   ]
  },
  {
   "cell_type": "code",
   "execution_count": 11,
   "metadata": {
    "colab": {
     "base_uri": "https://localhost:8080/",
     "height": 377
    },
    "colab_type": "code",
    "executionInfo": {
     "elapsed": 594,
     "status": "ok",
     "timestamp": 1567717106742,
     "user": {
      "displayName": "Leonardo Silva do Nascimento",
      "photoUrl": "https://lh3.googleusercontent.com/a-/AAuE7mBfPjf6kUTebmVb6nGFV6eWEBcWlC8wn9u0XC1TEg=s64",
      "userId": "10422304398321499472"
     },
     "user_tz": 180
    },
    "id": "DhGcV-DPQEAs",
    "outputId": "75b12e44-953d-475f-847b-1c31bda48b3c"
   },
   "outputs": [
    {
     "data": {
      "text/html": [
       "<div>\n",
       "<style scoped>\n",
       "    .dataframe tbody tr th:only-of-type {\n",
       "        vertical-align: middle;\n",
       "    }\n",
       "\n",
       "    .dataframe tbody tr th {\n",
       "        vertical-align: top;\n",
       "    }\n",
       "\n",
       "    .dataframe thead th {\n",
       "        text-align: right;\n",
       "    }\n",
       "</style>\n",
       "<table border=\"1\" class=\"dataframe\">\n",
       "  <thead>\n",
       "    <tr style=\"text-align: right;\">\n",
       "      <th></th>\n",
       "      <th>count</th>\n",
       "      <th>mean</th>\n",
       "      <th>std</th>\n",
       "      <th>min</th>\n",
       "      <th>25%</th>\n",
       "      <th>50%</th>\n",
       "      <th>75%</th>\n",
       "      <th>max</th>\n",
       "    </tr>\n",
       "  </thead>\n",
       "  <tbody>\n",
       "    <tr>\n",
       "      <th>Store</th>\n",
       "      <td>8190.00</td>\n",
       "      <td>23.00</td>\n",
       "      <td>12.99</td>\n",
       "      <td>1.00</td>\n",
       "      <td>12.00</td>\n",
       "      <td>23.00</td>\n",
       "      <td>34.00</td>\n",
       "      <td>45.00</td>\n",
       "    </tr>\n",
       "    <tr>\n",
       "      <th>Temperature</th>\n",
       "      <td>8190.00</td>\n",
       "      <td>59.36</td>\n",
       "      <td>18.68</td>\n",
       "      <td>-7.29</td>\n",
       "      <td>45.90</td>\n",
       "      <td>60.71</td>\n",
       "      <td>73.88</td>\n",
       "      <td>101.95</td>\n",
       "    </tr>\n",
       "    <tr>\n",
       "      <th>Fuel_Price</th>\n",
       "      <td>8190.00</td>\n",
       "      <td>3.41</td>\n",
       "      <td>0.43</td>\n",
       "      <td>2.47</td>\n",
       "      <td>3.04</td>\n",
       "      <td>3.51</td>\n",
       "      <td>3.74</td>\n",
       "      <td>4.47</td>\n",
       "    </tr>\n",
       "    <tr>\n",
       "      <th>MarkDown1</th>\n",
       "      <td>4032.00</td>\n",
       "      <td>7032.37</td>\n",
       "      <td>9262.75</td>\n",
       "      <td>-2781.45</td>\n",
       "      <td>1577.53</td>\n",
       "      <td>4743.58</td>\n",
       "      <td>8923.31</td>\n",
       "      <td>103184.98</td>\n",
       "    </tr>\n",
       "    <tr>\n",
       "      <th>MarkDown2</th>\n",
       "      <td>2921.00</td>\n",
       "      <td>3384.18</td>\n",
       "      <td>8793.58</td>\n",
       "      <td>-265.76</td>\n",
       "      <td>68.88</td>\n",
       "      <td>364.57</td>\n",
       "      <td>2153.35</td>\n",
       "      <td>104519.54</td>\n",
       "    </tr>\n",
       "    <tr>\n",
       "      <th>MarkDown3</th>\n",
       "      <td>3613.00</td>\n",
       "      <td>1760.10</td>\n",
       "      <td>11276.46</td>\n",
       "      <td>-179.26</td>\n",
       "      <td>6.60</td>\n",
       "      <td>36.26</td>\n",
       "      <td>163.15</td>\n",
       "      <td>149483.31</td>\n",
       "    </tr>\n",
       "    <tr>\n",
       "      <th>MarkDown4</th>\n",
       "      <td>3464.00</td>\n",
       "      <td>3292.94</td>\n",
       "      <td>6792.33</td>\n",
       "      <td>0.22</td>\n",
       "      <td>304.69</td>\n",
       "      <td>1176.42</td>\n",
       "      <td>3310.01</td>\n",
       "      <td>67474.85</td>\n",
       "    </tr>\n",
       "    <tr>\n",
       "      <th>MarkDown5</th>\n",
       "      <td>4050.00</td>\n",
       "      <td>4132.22</td>\n",
       "      <td>13086.69</td>\n",
       "      <td>-185.17</td>\n",
       "      <td>1440.83</td>\n",
       "      <td>2727.14</td>\n",
       "      <td>4832.56</td>\n",
       "      <td>771448.10</td>\n",
       "    </tr>\n",
       "    <tr>\n",
       "      <th>CPI</th>\n",
       "      <td>7605.00</td>\n",
       "      <td>172.46</td>\n",
       "      <td>39.74</td>\n",
       "      <td>126.06</td>\n",
       "      <td>132.36</td>\n",
       "      <td>182.76</td>\n",
       "      <td>213.93</td>\n",
       "      <td>228.98</td>\n",
       "    </tr>\n",
       "    <tr>\n",
       "      <th>Unemployment</th>\n",
       "      <td>7605.00</td>\n",
       "      <td>7.83</td>\n",
       "      <td>1.88</td>\n",
       "      <td>3.68</td>\n",
       "      <td>6.63</td>\n",
       "      <td>7.81</td>\n",
       "      <td>8.57</td>\n",
       "      <td>14.31</td>\n",
       "    </tr>\n",
       "    <tr>\n",
       "      <th>Weekly_Sales</th>\n",
       "      <td>6435.00</td>\n",
       "      <td>1046964.88</td>\n",
       "      <td>564366.62</td>\n",
       "      <td>209986.25</td>\n",
       "      <td>553350.10</td>\n",
       "      <td>960746.04</td>\n",
       "      <td>1420158.66</td>\n",
       "      <td>3818686.45</td>\n",
       "    </tr>\n",
       "  </tbody>\n",
       "</table>\n",
       "</div>"
      ],
      "text/plain": [
       "               count       mean       std       min       25%       50%  \\\n",
       "Store        8190.00      23.00     12.99      1.00     12.00     23.00   \n",
       "Temperature  8190.00      59.36     18.68     -7.29     45.90     60.71   \n",
       "Fuel_Price   8190.00       3.41      0.43      2.47      3.04      3.51   \n",
       "MarkDown1    4032.00    7032.37   9262.75  -2781.45   1577.53   4743.58   \n",
       "MarkDown2    2921.00    3384.18   8793.58   -265.76     68.88    364.57   \n",
       "MarkDown3    3613.00    1760.10  11276.46   -179.26      6.60     36.26   \n",
       "MarkDown4    3464.00    3292.94   6792.33      0.22    304.69   1176.42   \n",
       "MarkDown5    4050.00    4132.22  13086.69   -185.17   1440.83   2727.14   \n",
       "CPI          7605.00     172.46     39.74    126.06    132.36    182.76   \n",
       "Unemployment 7605.00       7.83      1.88      3.68      6.63      7.81   \n",
       "Weekly_Sales 6435.00 1046964.88 564366.62 209986.25 553350.10 960746.04   \n",
       "\n",
       "                    75%        max  \n",
       "Store             34.00      45.00  \n",
       "Temperature       73.88     101.95  \n",
       "Fuel_Price         3.74       4.47  \n",
       "MarkDown1       8923.31  103184.98  \n",
       "MarkDown2       2153.35  104519.54  \n",
       "MarkDown3        163.15  149483.31  \n",
       "MarkDown4       3310.01   67474.85  \n",
       "MarkDown5       4832.56  771448.10  \n",
       "CPI              213.93     228.98  \n",
       "Unemployment       8.57      14.31  \n",
       "Weekly_Sales 1420158.66 3818686.45  "
      ]
     },
     "execution_count": 11,
     "metadata": {},
     "output_type": "execute_result"
    }
   ],
   "source": [
    "df.describe().T"
   ]
  },
  {
   "cell_type": "markdown",
   "metadata": {
    "colab_type": "text",
    "id": "eBJdQw2FQEAv"
   },
   "source": [
    "Analisando o index \"count\" observa-se que existem alguns valores faltantes em determinadas variáveis. Logo mais será analisado a quantidade e o percentual de cada uma delas."
   ]
  },
  {
   "cell_type": "code",
   "execution_count": 12,
   "metadata": {
    "colab": {
     "base_uri": "https://localhost:8080/",
     "height": 247
    },
    "colab_type": "code",
    "executionInfo": {
     "elapsed": 567,
     "status": "ok",
     "timestamp": 1567717109311,
     "user": {
      "displayName": "Leonardo Silva do Nascimento",
      "photoUrl": "https://lh3.googleusercontent.com/a-/AAuE7mBfPjf6kUTebmVb6nGFV6eWEBcWlC8wn9u0XC1TEg=s64",
      "userId": "10422304398321499472"
     },
     "user_tz": 180
    },
    "id": "M_eQ8ECVQEAw",
    "outputId": "9f4500cb-94c8-4f4b-81aa-c373c140f8cf"
   },
   "outputs": [
    {
     "data": {
      "text/plain": [
       "Store           0.00\n",
       "Temperature    -0.28\n",
       "Fuel_Price     -0.31\n",
       "MarkDown1       4.02\n",
       "MarkDown2       4.96\n",
       "MarkDown3       8.13\n",
       "MarkDown4       4.86\n",
       "MarkDown5      50.28\n",
       "CPI             0.07\n",
       "Unemployment    1.07\n",
       "IsHoliday       3.33\n",
       "Weekly_Sales    0.67\n",
       "dtype: float64"
      ]
     },
     "execution_count": 12,
     "metadata": {},
     "output_type": "execute_result"
    }
   ],
   "source": [
    "df.skew()"
   ]
  },
  {
   "cell_type": "code",
   "execution_count": 13,
   "metadata": {
    "colab": {
     "base_uri": "https://localhost:8080/",
     "height": 247
    },
    "colab_type": "code",
    "executionInfo": {
     "elapsed": 707,
     "status": "ok",
     "timestamp": 1567717111130,
     "user": {
      "displayName": "Leonardo Silva do Nascimento",
      "photoUrl": "https://lh3.googleusercontent.com/a-/AAuE7mBfPjf6kUTebmVb6nGFV6eWEBcWlC8wn9u0XC1TEg=s64",
      "userId": "10422304398321499472"
     },
     "user_tz": 180
    },
    "id": "aMuaYpEt8rSe",
    "outputId": "882ae5d2-b8c9-4c2a-ba4e-ac26b7c1bfe3"
   },
   "outputs": [
    {
     "data": {
      "text/plain": [
       "Store            -1.20\n",
       "Temperature      -0.61\n",
       "Fuel_Price       -0.95\n",
       "MarkDown1        23.69\n",
       "MarkDown2        32.34\n",
       "MarkDown3        72.07\n",
       "MarkDown4        29.00\n",
       "MarkDown5      2923.06\n",
       "CPI              -1.83\n",
       "Unemployment      2.50\n",
       "IsHoliday         9.08\n",
       "Weekly_Sales      0.05\n",
       "dtype: float64"
      ]
     },
     "execution_count": 13,
     "metadata": {},
     "output_type": "execute_result"
    }
   ],
   "source": [
    "df.kurtosis()"
   ]
  },
  {
   "cell_type": "markdown",
   "metadata": {
    "colab_type": "text",
    "id": "5t6rdhoawyea"
   },
   "source": [
    "## Seleção das variáveis numéricas"
   ]
  },
  {
   "cell_type": "code",
   "execution_count": 69,
   "metadata": {
    "colab": {},
    "colab_type": "code",
    "id": "JpuiT3rZQEAz"
   },
   "outputs": [],
   "source": [
    "feat_num = df.select_dtypes(include=np.float64)\n",
    "feat_cat = df.select_dtypes(include=np.object)"
   ]
  },
  {
   "cell_type": "code",
   "execution_count": 70,
   "metadata": {
    "colab": {
     "base_uri": "https://localhost:8080/",
     "height": 70
    },
    "colab_type": "code",
    "executionInfo": {
     "elapsed": 533,
     "status": "ok",
     "timestamp": 1567717114209,
     "user": {
      "displayName": "Leonardo Silva do Nascimento",
      "photoUrl": "https://lh3.googleusercontent.com/a-/AAuE7mBfPjf6kUTebmVb6nGFV6eWEBcWlC8wn9u0XC1TEg=s64",
      "userId": "10422304398321499472"
     },
     "user_tz": 180
    },
    "id": "8ZNDdv1mQEA2",
    "outputId": "62db5cd4-8d43-4891-d910-4e4e49b6c24a"
   },
   "outputs": [
    {
     "data": {
      "text/plain": [
       "Index(['Temperature', 'Fuel_Price', 'MarkDown1', 'MarkDown2', 'MarkDown3',\n",
       "       'MarkDown4', 'MarkDown5', 'CPI', 'Unemployment', 'Weekly_Sales'],\n",
       "      dtype='object')"
      ]
     },
     "execution_count": 70,
     "metadata": {},
     "output_type": "execute_result"
    }
   ],
   "source": [
    "feat_num.columns"
   ]
  },
  {
   "cell_type": "code",
   "execution_count": 12,
   "metadata": {
    "colab": {
     "base_uri": "https://localhost:8080/",
     "height": 34
    },
    "colab_type": "code",
    "executionInfo": {
     "elapsed": 644,
     "status": "ok",
     "timestamp": 1567717114803,
     "user": {
      "displayName": "Leonardo Silva do Nascimento",
      "photoUrl": "https://lh3.googleusercontent.com/a-/AAuE7mBfPjf6kUTebmVb6nGFV6eWEBcWlC8wn9u0XC1TEg=s64",
      "userId": "10422304398321499472"
     },
     "user_tz": 180
    },
    "id": "ZfxW-ZsEQEA5",
    "outputId": "d1c92f3e-4b1c-4a33-83b5-cb111a3dde50"
   },
   "outputs": [
    {
     "data": {
      "text/plain": [
       "Index([], dtype='object')"
      ]
     },
     "execution_count": 12,
     "metadata": {},
     "output_type": "execute_result"
    }
   ],
   "source": [
    "feat_cat.columns"
   ]
  },
  {
   "cell_type": "markdown",
   "metadata": {
    "colab_type": "text",
    "id": "cNxUmGhWQEA8"
   },
   "source": [
    "## Valores Faltantes"
   ]
  },
  {
   "cell_type": "code",
   "execution_count": 60,
   "metadata": {
    "colab": {
     "base_uri": "https://localhost:8080/",
     "height": 297
    },
    "colab_type": "code",
    "executionInfo": {
     "elapsed": 670,
     "status": "ok",
     "timestamp": 1568043894168,
     "user": {
      "displayName": "Leonardo Silva do Nascimento",
      "photoUrl": "https://lh3.googleusercontent.com/a-/AAuE7mBfPjf6kUTebmVb6nGFV6eWEBcWlC8wn9u0XC1TEg=s64",
      "userId": "10422304398321499472"
     },
     "user_tz": 180
    },
    "id": "5iGuIcncQEA9",
    "outputId": "fafa18b5-30d1-45e5-964e-bd91eec5b6ac"
   },
   "outputs": [
    {
     "data": {
      "text/html": [
       "<div>\n",
       "<style scoped>\n",
       "    .dataframe tbody tr th:only-of-type {\n",
       "        vertical-align: middle;\n",
       "    }\n",
       "\n",
       "    .dataframe tbody tr th {\n",
       "        vertical-align: top;\n",
       "    }\n",
       "\n",
       "    .dataframe thead th {\n",
       "        text-align: right;\n",
       "    }\n",
       "</style>\n",
       "<table border=\"1\" class=\"dataframe\">\n",
       "  <thead>\n",
       "    <tr style=\"text-align: right;\">\n",
       "      <th></th>\n",
       "      <th>Count</th>\n",
       "      <th>Percentage</th>\n",
       "    </tr>\n",
       "  </thead>\n",
       "  <tbody>\n",
       "    <tr>\n",
       "      <th>MarkDown2</th>\n",
       "      <td>5269</td>\n",
       "      <td>64.33</td>\n",
       "    </tr>\n",
       "    <tr>\n",
       "      <th>MarkDown4</th>\n",
       "      <td>4726</td>\n",
       "      <td>57.70</td>\n",
       "    </tr>\n",
       "    <tr>\n",
       "      <th>MarkDown3</th>\n",
       "      <td>4577</td>\n",
       "      <td>55.89</td>\n",
       "    </tr>\n",
       "    <tr>\n",
       "      <th>MarkDown1</th>\n",
       "      <td>4158</td>\n",
       "      <td>50.77</td>\n",
       "    </tr>\n",
       "    <tr>\n",
       "      <th>MarkDown5</th>\n",
       "      <td>4140</td>\n",
       "      <td>50.55</td>\n",
       "    </tr>\n",
       "    <tr>\n",
       "      <th>Weekly_Sales</th>\n",
       "      <td>1755</td>\n",
       "      <td>21.43</td>\n",
       "    </tr>\n",
       "    <tr>\n",
       "      <th>CPI</th>\n",
       "      <td>585</td>\n",
       "      <td>7.14</td>\n",
       "    </tr>\n",
       "    <tr>\n",
       "      <th>Unemployment</th>\n",
       "      <td>585</td>\n",
       "      <td>7.14</td>\n",
       "    </tr>\n",
       "  </tbody>\n",
       "</table>\n",
       "</div>"
      ],
      "text/plain": [
       "              Count  Percentage\n",
       "MarkDown2      5269       64.33\n",
       "MarkDown4      4726       57.70\n",
       "MarkDown3      4577       55.89\n",
       "MarkDown1      4158       50.77\n",
       "MarkDown5      4140       50.55\n",
       "Weekly_Sales   1755       21.43\n",
       "CPI             585        7.14\n",
       "Unemployment    585        7.14"
      ]
     },
     "execution_count": 60,
     "metadata": {},
     "output_type": "execute_result"
    }
   ],
   "source": [
    "df_missing = count_null(feat_num)\n",
    "df_missing"
   ]
  },
  {
   "cell_type": "markdown",
   "metadata": {
    "colab_type": "text",
    "id": "1z4uBlGRQEBA"
   },
   "source": [
    "Observa-se que a maioria das variáveis possuem mais de 50% dos seus dados faltantes."
   ]
  },
  {
   "cell_type": "code",
   "execution_count": 92,
   "metadata": {},
   "outputs": [],
   "source": [
    "#df.dropna(inplace=True, axis=0)\n",
    "#df.reset_index(inplace=True, drop=True)\n",
    "\n",
    "# df.drop(['leval_0', 'index'], axis=1)"
   ]
  },
  {
   "cell_type": "code",
   "execution_count": 14,
   "metadata": {
    "colab": {},
    "colab_type": "code",
    "id": "OtQ4sS8Pw9F3"
   },
   "outputs": [],
   "source": [
    "for idx in df_missing.index:\n",
    "    if df_missing.loc[idx, 'Percentage'] > 50:\n",
    "        df.drop(idx, axis=1, inplace=True)\n",
    "        continue\n",
    "        \n",
    "    df[idx].fillna(df[idx].mean(), inplace=True)"
   ]
  },
  {
   "cell_type": "markdown",
   "metadata": {
    "colab_type": "text",
    "id": "2yUinEIYxHg0"
   },
   "source": [
    "Neste primeiro teste será removido as features com um percentual maior ou igual à 50% de valores faltantes."
   ]
  },
  {
   "cell_type": "markdown",
   "metadata": {
    "colab_type": "text",
    "id": "qswuPklAxksX"
   },
   "source": [
    "## Outliers"
   ]
  },
  {
   "cell_type": "code",
   "execution_count": 99,
   "metadata": {},
   "outputs": [
    {
     "data": {
      "text/html": [
       "<div>\n",
       "<style scoped>\n",
       "    .dataframe tbody tr th:only-of-type {\n",
       "        vertical-align: middle;\n",
       "    }\n",
       "\n",
       "    .dataframe tbody tr th {\n",
       "        vertical-align: top;\n",
       "    }\n",
       "\n",
       "    .dataframe thead th {\n",
       "        text-align: right;\n",
       "    }\n",
       "</style>\n",
       "<table border=\"1\" class=\"dataframe\">\n",
       "  <thead>\n",
       "    <tr style=\"text-align: right;\">\n",
       "      <th></th>\n",
       "      <th>Store</th>\n",
       "      <th>Date</th>\n",
       "      <th>Temperature</th>\n",
       "      <th>Fuel_Price</th>\n",
       "      <th>MarkDown1</th>\n",
       "      <th>MarkDown2</th>\n",
       "      <th>MarkDown3</th>\n",
       "      <th>MarkDown4</th>\n",
       "      <th>MarkDown5</th>\n",
       "      <th>CPI</th>\n",
       "      <th>Unemployment</th>\n",
       "      <th>IsHoliday</th>\n",
       "      <th>Weekly_Sales</th>\n",
       "    </tr>\n",
       "  </thead>\n",
       "  <tbody>\n",
       "    <tr>\n",
       "      <th>0</th>\n",
       "      <td>1</td>\n",
       "      <td>2011-11-11</td>\n",
       "      <td>59.11</td>\n",
       "      <td>3.30</td>\n",
       "      <td>10382.90</td>\n",
       "      <td>6115.67</td>\n",
       "      <td>215.07</td>\n",
       "      <td>2406.62</td>\n",
       "      <td>6551.42</td>\n",
       "      <td>218.00</td>\n",
       "      <td>7.87</td>\n",
       "      <td>False</td>\n",
       "      <td>1594938.89</td>\n",
       "    </tr>\n",
       "    <tr>\n",
       "      <th>1</th>\n",
       "      <td>1</td>\n",
       "      <td>2011-11-18</td>\n",
       "      <td>62.25</td>\n",
       "      <td>3.31</td>\n",
       "      <td>6074.12</td>\n",
       "      <td>254.39</td>\n",
       "      <td>51.98</td>\n",
       "      <td>427.39</td>\n",
       "      <td>5988.57</td>\n",
       "      <td>218.22</td>\n",
       "      <td>7.87</td>\n",
       "      <td>False</td>\n",
       "      <td>1539483.70</td>\n",
       "    </tr>\n",
       "    <tr>\n",
       "      <th>2</th>\n",
       "      <td>1</td>\n",
       "      <td>2011-11-25</td>\n",
       "      <td>60.14</td>\n",
       "      <td>3.24</td>\n",
       "      <td>410.31</td>\n",
       "      <td>98.00</td>\n",
       "      <td>55805.51</td>\n",
       "      <td>8.00</td>\n",
       "      <td>554.92</td>\n",
       "      <td>218.47</td>\n",
       "      <td>7.87</td>\n",
       "      <td>True</td>\n",
       "      <td>2033320.66</td>\n",
       "    </tr>\n",
       "    <tr>\n",
       "      <th>3</th>\n",
       "      <td>1</td>\n",
       "      <td>2011-02-12</td>\n",
       "      <td>48.91</td>\n",
       "      <td>3.17</td>\n",
       "      <td>5629.51</td>\n",
       "      <td>68.00</td>\n",
       "      <td>1398.11</td>\n",
       "      <td>2084.64</td>\n",
       "      <td>20475.32</td>\n",
       "      <td>218.71</td>\n",
       "      <td>7.87</td>\n",
       "      <td>False</td>\n",
       "      <td>1584083.95</td>\n",
       "    </tr>\n",
       "    <tr>\n",
       "      <th>4</th>\n",
       "      <td>1</td>\n",
       "      <td>2011-09-12</td>\n",
       "      <td>43.93</td>\n",
       "      <td>3.16</td>\n",
       "      <td>4640.65</td>\n",
       "      <td>19.00</td>\n",
       "      <td>105.02</td>\n",
       "      <td>3639.42</td>\n",
       "      <td>14461.82</td>\n",
       "      <td>218.96</td>\n",
       "      <td>7.87</td>\n",
       "      <td>False</td>\n",
       "      <td>1799682.38</td>\n",
       "    </tr>\n",
       "  </tbody>\n",
       "</table>\n",
       "</div>"
      ],
      "text/plain": [
       "   Store       Date  Temperature  Fuel_Price  MarkDown1  MarkDown2  MarkDown3  \\\n",
       "0      1 2011-11-11        59.11        3.30   10382.90    6115.67     215.07   \n",
       "1      1 2011-11-18        62.25        3.31    6074.12     254.39      51.98   \n",
       "2      1 2011-11-25        60.14        3.24     410.31      98.00   55805.51   \n",
       "3      1 2011-02-12        48.91        3.17    5629.51      68.00    1398.11   \n",
       "4      1 2011-09-12        43.93        3.16    4640.65      19.00     105.02   \n",
       "\n",
       "   MarkDown4  MarkDown5    CPI  Unemployment  IsHoliday  Weekly_Sales  \n",
       "0    2406.62    6551.42 218.00          7.87      False    1594938.89  \n",
       "1     427.39    5988.57 218.22          7.87      False    1539483.70  \n",
       "2       8.00     554.92 218.47          7.87       True    2033320.66  \n",
       "3    2084.64   20475.32 218.71          7.87      False    1584083.95  \n",
       "4    3639.42   14461.82 218.96          7.87      False    1799682.38  "
      ]
     },
     "execution_count": 99,
     "metadata": {},
     "output_type": "execute_result"
    }
   ],
   "source": [
    "df.drop(['index'], axis=1, inplace=True)\n",
    "df.head()"
   ]
  },
  {
   "cell_type": "code",
   "execution_count": 101,
   "metadata": {
    "colab": {},
    "colab_type": "code",
    "id": "ohVxvt4zFN2i"
   },
   "outputs": [],
   "source": [
    "df_num = df.select_dtypes(include=np.float64)"
   ]
  },
  {
   "cell_type": "code",
   "execution_count": 102,
   "metadata": {
    "colab": {
     "base_uri": "https://localhost:8080/",
     "height": 775
    },
    "colab_type": "code",
    "executionInfo": {
     "elapsed": 1779,
     "status": "ok",
     "timestamp": 1567717150073,
     "user": {
      "displayName": "Leonardo Silva do Nascimento",
      "photoUrl": "https://lh3.googleusercontent.com/a-/AAuE7mBfPjf6kUTebmVb6nGFV6eWEBcWlC8wn9u0XC1TEg=s64",
      "userId": "10422304398321499472"
     },
     "user_tz": 180
    },
    "id": "1J7Lx9yQxlbk",
    "outputId": "bd612069-dd83-4af6-f226-f2b727998bdf"
   },
   "outputs": [
    {
     "ename": "IndexError",
     "evalue": "index 3 is out of bounds for axis 1 with size 3",
     "output_type": "error",
     "traceback": [
      "\u001b[0;31m---------------------------------------------------------------------------\u001b[0m",
      "\u001b[0;31mIndexError\u001b[0m                                Traceback (most recent call last)",
      "\u001b[0;32m<ipython-input-102-2575f838f4d7>\u001b[0m in \u001b[0;36m<module>\u001b[0;34m\u001b[0m\n\u001b[0;32m----> 1\u001b[0;31m \u001b[0mplot_num\u001b[0m\u001b[0;34m(\u001b[0m\u001b[0;34m'Análise de Outliers das Variáveis Numéricas'\u001b[0m\u001b[0;34m,\u001b[0m \u001b[0mdf_num\u001b[0m\u001b[0;34m,\u001b[0m \u001b[0;34m'boxplot'\u001b[0m\u001b[0;34m)\u001b[0m\u001b[0;34m\u001b[0m\u001b[0;34m\u001b[0m\u001b[0m\n\u001b[0m",
      "\u001b[0;32m<ipython-input-78-05e55170cb42>\u001b[0m in \u001b[0;36mplot_num\u001b[0;34m(title, data, tipo)\u001b[0m\n\u001b[1;32m     18\u001b[0m             \u001b[0msns\u001b[0m\u001b[0;34m.\u001b[0m\u001b[0mdistplot\u001b[0m\u001b[0;34m(\u001b[0m\u001b[0mdata\u001b[0m\u001b[0;34m[\u001b[0m\u001b[0mv\u001b[0m\u001b[0;34m]\u001b[0m\u001b[0;34m,\u001b[0m \u001b[0max\u001b[0m\u001b[0;34m=\u001b[0m\u001b[0maxs\u001b[0m\u001b[0;34m[\u001b[0m\u001b[0mcurrent_row\u001b[0m\u001b[0;34m,\u001b[0m \u001b[0mcurrent_col\u001b[0m\u001b[0;34m]\u001b[0m\u001b[0;34m)\u001b[0m\u001b[0;34m\u001b[0m\u001b[0;34m\u001b[0m\u001b[0m\n\u001b[1;32m     19\u001b[0m         \u001b[0;32melse\u001b[0m\u001b[0;34m:\u001b[0m\u001b[0;34m\u001b[0m\u001b[0;34m\u001b[0m\u001b[0m\n\u001b[0;32m---> 20\u001b[0;31m             \u001b[0msns\u001b[0m\u001b[0;34m.\u001b[0m\u001b[0mboxplot\u001b[0m\u001b[0;34m(\u001b[0m\u001b[0morient\u001b[0m\u001b[0;34m=\u001b[0m\u001b[0;34m'v'\u001b[0m\u001b[0;34m,\u001b[0m \u001b[0mdata\u001b[0m\u001b[0;34m=\u001b[0m\u001b[0mdata\u001b[0m\u001b[0;34m[\u001b[0m\u001b[0mv\u001b[0m\u001b[0;34m]\u001b[0m\u001b[0;34m,\u001b[0m \u001b[0max\u001b[0m\u001b[0;34m=\u001b[0m\u001b[0maxs\u001b[0m\u001b[0;34m[\u001b[0m\u001b[0mcurrent_row\u001b[0m\u001b[0;34m,\u001b[0m \u001b[0mcurrent_col\u001b[0m\u001b[0;34m]\u001b[0m\u001b[0;34m)\u001b[0m\u001b[0;34m\u001b[0m\u001b[0;34m\u001b[0m\u001b[0m\n\u001b[0m\u001b[1;32m     21\u001b[0m \u001b[0;34m\u001b[0m\u001b[0m\n\u001b[1;32m     22\u001b[0m         \u001b[0maxs\u001b[0m\u001b[0;34m[\u001b[0m\u001b[0mcurrent_row\u001b[0m\u001b[0;34m,\u001b[0m \u001b[0mcurrent_col\u001b[0m\u001b[0;34m]\u001b[0m\u001b[0;34m.\u001b[0m\u001b[0mset_xlabel\u001b[0m\u001b[0;34m(\u001b[0m\u001b[0mv\u001b[0m\u001b[0;34m)\u001b[0m\u001b[0;34m\u001b[0m\u001b[0;34m\u001b[0m\u001b[0m\n",
      "\u001b[0;31mIndexError\u001b[0m: index 3 is out of bounds for axis 1 with size 3"
     ]
    },
    {
     "data": {
      "image/png": "[encoded data removed]",
      "text/plain": [
       "<Figure size 1152x720 with 12 Axes>"
      ]
     },
     "metadata": {
      "needs_background": "light"
     },
     "output_type": "display_data"
    }
   ],
   "source": [
    "plot_num('Análise de Outliers das Variáveis Numéricas', df_num, 'boxplot')"
   ]
  },
  {
   "cell_type": "markdown",
   "metadata": {
    "colab_type": "text",
    "id": "-LFdDcBIy6Ai"
   },
   "source": [
    "Análise..."
   ]
  },
  {
   "cell_type": "code",
   "execution_count": 103,
   "metadata": {
    "colab": {
     "base_uri": "https://localhost:8080/",
     "height": 34
    },
    "colab_type": "code",
    "executionInfo": {
     "elapsed": 527,
     "status": "ok",
     "timestamp": 1568043919172,
     "user": {
      "displayName": "Leonardo Silva do Nascimento",
      "photoUrl": "https://lh3.googleusercontent.com/a-/AAuE7mBfPjf6kUTebmVb6nGFV6eWEBcWlC8wn9u0XC1TEg=s64",
      "userId": "10422304398321499472"
     },
     "user_tz": 180
    },
    "id": "vYQl-trGxuF1",
    "outputId": "c3ae7d39-ede8-4e31-aa05-0af957ebe371"
   },
   "outputs": [
    {
     "data": {
      "text/plain": [
       "((833, 10), (1395, 10))"
      ]
     },
     "execution_count": 103,
     "metadata": {},
     "output_type": "execute_result"
    }
   ],
   "source": [
    "# Removendo outliers\n",
    "\n",
    "df_outliers = remove_outlier(df_num)\n",
    "df = df.iloc[df_outliers.index, :]\n",
    "\n",
    "df_outliers.shape, df_num.shape"
   ]
  },
  {
   "cell_type": "code",
   "execution_count": 104,
   "metadata": {
    "colab": {
     "base_uri": "https://localhost:8080/",
     "height": 775
    },
    "colab_type": "code",
    "executionInfo": {
     "elapsed": 1638,
     "status": "ok",
     "timestamp": 1567717160940,
     "user": {
      "displayName": "Leonardo Silva do Nascimento",
      "photoUrl": "https://lh3.googleusercontent.com/a-/AAuE7mBfPjf6kUTebmVb6nGFV6eWEBcWlC8wn9u0XC1TEg=s64",
      "userId": "10422304398321499472"
     },
     "user_tz": 180
    },
    "id": "iodPPILgxt5p",
    "outputId": "4a6f86d1-3ffd-4897-f959-ffd157230832"
   },
   "outputs": [
    {
     "ename": "KeyError",
     "evalue": "0",
     "output_type": "error",
     "traceback": [
      "\u001b[0;31m---------------------------------------------------------------------------\u001b[0m",
      "\u001b[0;31mKeyError\u001b[0m                                  Traceback (most recent call last)",
      "\u001b[0;32m<ipython-input-104-84a691f2c497>\u001b[0m in \u001b[0;36m<module>\u001b[0;34m\u001b[0m\n\u001b[0;32m----> 1\u001b[0;31m \u001b[0mplot_num\u001b[0m\u001b[0;34m(\u001b[0m\u001b[0;34m'Análise de Outliers das Variáveis Numéricas'\u001b[0m\u001b[0;34m,\u001b[0m \u001b[0mdf_outliers\u001b[0m\u001b[0;34m,\u001b[0m \u001b[0;34m'boxplot'\u001b[0m\u001b[0;34m)\u001b[0m\u001b[0;34m\u001b[0m\u001b[0;34m\u001b[0m\u001b[0m\n\u001b[0m",
      "\u001b[0;32m<ipython-input-78-05e55170cb42>\u001b[0m in \u001b[0;36mplot_num\u001b[0;34m(title, data, tipo)\u001b[0m\n\u001b[1;32m     18\u001b[0m             \u001b[0msns\u001b[0m\u001b[0;34m.\u001b[0m\u001b[0mdistplot\u001b[0m\u001b[0;34m(\u001b[0m\u001b[0mdata\u001b[0m\u001b[0;34m[\u001b[0m\u001b[0mv\u001b[0m\u001b[0;34m]\u001b[0m\u001b[0;34m,\u001b[0m \u001b[0max\u001b[0m\u001b[0;34m=\u001b[0m\u001b[0maxs\u001b[0m\u001b[0;34m[\u001b[0m\u001b[0mcurrent_row\u001b[0m\u001b[0;34m,\u001b[0m \u001b[0mcurrent_col\u001b[0m\u001b[0;34m]\u001b[0m\u001b[0;34m)\u001b[0m\u001b[0;34m\u001b[0m\u001b[0;34m\u001b[0m\u001b[0m\n\u001b[1;32m     19\u001b[0m         \u001b[0;32melse\u001b[0m\u001b[0;34m:\u001b[0m\u001b[0;34m\u001b[0m\u001b[0;34m\u001b[0m\u001b[0m\n\u001b[0;32m---> 20\u001b[0;31m             \u001b[0msns\u001b[0m\u001b[0;34m.\u001b[0m\u001b[0mboxplot\u001b[0m\u001b[0;34m(\u001b[0m\u001b[0morient\u001b[0m\u001b[0;34m=\u001b[0m\u001b[0;34m'v'\u001b[0m\u001b[0;34m,\u001b[0m \u001b[0mdata\u001b[0m\u001b[0;34m=\u001b[0m\u001b[0mdata\u001b[0m\u001b[0;34m[\u001b[0m\u001b[0mv\u001b[0m\u001b[0;34m]\u001b[0m\u001b[0;34m,\u001b[0m \u001b[0max\u001b[0m\u001b[0;34m=\u001b[0m\u001b[0maxs\u001b[0m\u001b[0;34m[\u001b[0m\u001b[0mcurrent_row\u001b[0m\u001b[0;34m,\u001b[0m \u001b[0mcurrent_col\u001b[0m\u001b[0;34m]\u001b[0m\u001b[0;34m)\u001b[0m\u001b[0;34m\u001b[0m\u001b[0;34m\u001b[0m\u001b[0m\n\u001b[0m\u001b[1;32m     21\u001b[0m \u001b[0;34m\u001b[0m\u001b[0m\n\u001b[1;32m     22\u001b[0m         \u001b[0maxs\u001b[0m\u001b[0;34m[\u001b[0m\u001b[0mcurrent_row\u001b[0m\u001b[0;34m,\u001b[0m \u001b[0mcurrent_col\u001b[0m\u001b[0;34m]\u001b[0m\u001b[0;34m.\u001b[0m\u001b[0mset_xlabel\u001b[0m\u001b[0;34m(\u001b[0m\u001b[0mv\u001b[0m\u001b[0;34m)\u001b[0m\u001b[0;34m\u001b[0m\u001b[0;34m\u001b[0m\u001b[0m\n",
      "\u001b[0;32m~/anaconda3/lib/python3.7/site-packages/seaborn/categorical.py\u001b[0m in \u001b[0;36mboxplot\u001b[0;34m(x, y, hue, data, order, hue_order, orient, color, palette, saturation, width, dodge, fliersize, linewidth, whis, notch, ax, **kwargs)\u001b[0m\n\u001b[1;32m   2229\u001b[0m     plotter = _BoxPlotter(x, y, hue, data, order, hue_order,\n\u001b[1;32m   2230\u001b[0m                           \u001b[0morient\u001b[0m\u001b[0;34m,\u001b[0m \u001b[0mcolor\u001b[0m\u001b[0;34m,\u001b[0m \u001b[0mpalette\u001b[0m\u001b[0;34m,\u001b[0m \u001b[0msaturation\u001b[0m\u001b[0;34m,\u001b[0m\u001b[0;34m\u001b[0m\u001b[0;34m\u001b[0m\u001b[0m\n\u001b[0;32m-> 2231\u001b[0;31m                           width, dodge, fliersize, linewidth)\n\u001b[0m\u001b[1;32m   2232\u001b[0m \u001b[0;34m\u001b[0m\u001b[0m\n\u001b[1;32m   2233\u001b[0m     \u001b[0;32mif\u001b[0m \u001b[0max\u001b[0m \u001b[0;32mis\u001b[0m \u001b[0;32mNone\u001b[0m\u001b[0;34m:\u001b[0m\u001b[0;34m\u001b[0m\u001b[0;34m\u001b[0m\u001b[0m\n",
      "\u001b[0;32m~/anaconda3/lib/python3.7/site-packages/seaborn/categorical.py\u001b[0m in \u001b[0;36m__init__\u001b[0;34m(self, x, y, hue, data, order, hue_order, orient, color, palette, saturation, width, dodge, fliersize, linewidth)\u001b[0m\n\u001b[1;32m    444\u001b[0m                  width, dodge, fliersize, linewidth):\n\u001b[1;32m    445\u001b[0m \u001b[0;34m\u001b[0m\u001b[0m\n\u001b[0;32m--> 446\u001b[0;31m         \u001b[0mself\u001b[0m\u001b[0;34m.\u001b[0m\u001b[0mestablish_variables\u001b[0m\u001b[0;34m(\u001b[0m\u001b[0mx\u001b[0m\u001b[0;34m,\u001b[0m \u001b[0my\u001b[0m\u001b[0;34m,\u001b[0m \u001b[0mhue\u001b[0m\u001b[0;34m,\u001b[0m \u001b[0mdata\u001b[0m\u001b[0;34m,\u001b[0m \u001b[0morient\u001b[0m\u001b[0;34m,\u001b[0m \u001b[0morder\u001b[0m\u001b[0;34m,\u001b[0m \u001b[0mhue_order\u001b[0m\u001b[0;34m)\u001b[0m\u001b[0;34m\u001b[0m\u001b[0;34m\u001b[0m\u001b[0m\n\u001b[0m\u001b[1;32m    447\u001b[0m         \u001b[0mself\u001b[0m\u001b[0;34m.\u001b[0m\u001b[0mestablish_colors\u001b[0m\u001b[0;34m(\u001b[0m\u001b[0mcolor\u001b[0m\u001b[0;34m,\u001b[0m \u001b[0mpalette\u001b[0m\u001b[0;34m,\u001b[0m \u001b[0msaturation\u001b[0m\u001b[0;34m)\u001b[0m\u001b[0;34m\u001b[0m\u001b[0;34m\u001b[0m\u001b[0m\n\u001b[1;32m    448\u001b[0m \u001b[0;34m\u001b[0m\u001b[0m\n",
      "\u001b[0;32m~/anaconda3/lib/python3.7/site-packages/seaborn/categorical.py\u001b[0m in \u001b[0;36mestablish_variables\u001b[0;34m(self, x, y, hue, data, orient, order, hue_order, units)\u001b[0m\n\u001b[1;32m     98\u001b[0m                 \u001b[0;32mif\u001b[0m \u001b[0mhasattr\u001b[0m\u001b[0;34m(\u001b[0m\u001b[0mdata\u001b[0m\u001b[0;34m,\u001b[0m \u001b[0;34m\"shape\"\u001b[0m\u001b[0;34m)\u001b[0m\u001b[0;34m:\u001b[0m\u001b[0;34m\u001b[0m\u001b[0;34m\u001b[0m\u001b[0m\n\u001b[1;32m     99\u001b[0m                     \u001b[0;32mif\u001b[0m \u001b[0mlen\u001b[0m\u001b[0;34m(\u001b[0m\u001b[0mdata\u001b[0m\u001b[0;34m.\u001b[0m\u001b[0mshape\u001b[0m\u001b[0;34m)\u001b[0m \u001b[0;34m==\u001b[0m \u001b[0;36m1\u001b[0m\u001b[0;34m:\u001b[0m\u001b[0;34m\u001b[0m\u001b[0;34m\u001b[0m\u001b[0m\n\u001b[0;32m--> 100\u001b[0;31m                         \u001b[0;32mif\u001b[0m \u001b[0mnp\u001b[0m\u001b[0;34m.\u001b[0m\u001b[0misscalar\u001b[0m\u001b[0;34m(\u001b[0m\u001b[0mdata\u001b[0m\u001b[0;34m[\u001b[0m\u001b[0;36m0\u001b[0m\u001b[0;34m]\u001b[0m\u001b[0;34m)\u001b[0m\u001b[0;34m:\u001b[0m\u001b[0;34m\u001b[0m\u001b[0;34m\u001b[0m\u001b[0m\n\u001b[0m\u001b[1;32m    101\u001b[0m                             \u001b[0mplot_data\u001b[0m \u001b[0;34m=\u001b[0m \u001b[0;34m[\u001b[0m\u001b[0mdata\u001b[0m\u001b[0;34m]\u001b[0m\u001b[0;34m\u001b[0m\u001b[0;34m\u001b[0m\u001b[0m\n\u001b[1;32m    102\u001b[0m                         \u001b[0;32melse\u001b[0m\u001b[0;34m:\u001b[0m\u001b[0;34m\u001b[0m\u001b[0;34m\u001b[0m\u001b[0m\n",
      "\u001b[0;32m~/anaconda3/lib/python3.7/site-packages/pandas/core/series.py\u001b[0m in \u001b[0;36m__getitem__\u001b[0;34m(self, key)\u001b[0m\n\u001b[1;32m    866\u001b[0m         \u001b[0mkey\u001b[0m \u001b[0;34m=\u001b[0m \u001b[0mcom\u001b[0m\u001b[0;34m.\u001b[0m\u001b[0mapply_if_callable\u001b[0m\u001b[0;34m(\u001b[0m\u001b[0mkey\u001b[0m\u001b[0;34m,\u001b[0m \u001b[0mself\u001b[0m\u001b[0;34m)\u001b[0m\u001b[0;34m\u001b[0m\u001b[0;34m\u001b[0m\u001b[0m\n\u001b[1;32m    867\u001b[0m         \u001b[0;32mtry\u001b[0m\u001b[0;34m:\u001b[0m\u001b[0;34m\u001b[0m\u001b[0;34m\u001b[0m\u001b[0m\n\u001b[0;32m--> 868\u001b[0;31m             \u001b[0mresult\u001b[0m \u001b[0;34m=\u001b[0m \u001b[0mself\u001b[0m\u001b[0;34m.\u001b[0m\u001b[0mindex\u001b[0m\u001b[0;34m.\u001b[0m\u001b[0mget_value\u001b[0m\u001b[0;34m(\u001b[0m\u001b[0mself\u001b[0m\u001b[0;34m,\u001b[0m \u001b[0mkey\u001b[0m\u001b[0;34m)\u001b[0m\u001b[0;34m\u001b[0m\u001b[0;34m\u001b[0m\u001b[0m\n\u001b[0m\u001b[1;32m    869\u001b[0m \u001b[0;34m\u001b[0m\u001b[0m\n\u001b[1;32m    870\u001b[0m             \u001b[0;32mif\u001b[0m \u001b[0;32mnot\u001b[0m \u001b[0mis_scalar\u001b[0m\u001b[0;34m(\u001b[0m\u001b[0mresult\u001b[0m\u001b[0;34m)\u001b[0m\u001b[0;34m:\u001b[0m\u001b[0;34m\u001b[0m\u001b[0;34m\u001b[0m\u001b[0m\n",
      "\u001b[0;32m~/anaconda3/lib/python3.7/site-packages/pandas/core/indexes/base.py\u001b[0m in \u001b[0;36mget_value\u001b[0;34m(self, series, key)\u001b[0m\n\u001b[1;32m   4373\u001b[0m         \u001b[0;32mtry\u001b[0m\u001b[0;34m:\u001b[0m\u001b[0;34m\u001b[0m\u001b[0;34m\u001b[0m\u001b[0m\n\u001b[1;32m   4374\u001b[0m             return self._engine.get_value(s, k,\n\u001b[0;32m-> 4375\u001b[0;31m                                           tz=getattr(series.dtype, 'tz', None))\n\u001b[0m\u001b[1;32m   4376\u001b[0m         \u001b[0;32mexcept\u001b[0m \u001b[0mKeyError\u001b[0m \u001b[0;32mas\u001b[0m \u001b[0me1\u001b[0m\u001b[0;34m:\u001b[0m\u001b[0;34m\u001b[0m\u001b[0;34m\u001b[0m\u001b[0m\n\u001b[1;32m   4377\u001b[0m             \u001b[0;32mif\u001b[0m \u001b[0mlen\u001b[0m\u001b[0;34m(\u001b[0m\u001b[0mself\u001b[0m\u001b[0;34m)\u001b[0m \u001b[0;34m>\u001b[0m \u001b[0;36m0\u001b[0m \u001b[0;32mand\u001b[0m \u001b[0;34m(\u001b[0m\u001b[0mself\u001b[0m\u001b[0;34m.\u001b[0m\u001b[0mholds_integer\u001b[0m\u001b[0;34m(\u001b[0m\u001b[0;34m)\u001b[0m \u001b[0;32mor\u001b[0m \u001b[0mself\u001b[0m\u001b[0;34m.\u001b[0m\u001b[0mis_boolean\u001b[0m\u001b[0;34m(\u001b[0m\u001b[0;34m)\u001b[0m\u001b[0;34m)\u001b[0m\u001b[0;34m:\u001b[0m\u001b[0;34m\u001b[0m\u001b[0;34m\u001b[0m\u001b[0m\n",
      "\u001b[0;32mpandas/_libs/index.pyx\u001b[0m in \u001b[0;36mpandas._libs.index.IndexEngine.get_value\u001b[0;34m()\u001b[0m\n",
      "\u001b[0;32mpandas/_libs/index.pyx\u001b[0m in \u001b[0;36mpandas._libs.index.IndexEngine.get_value\u001b[0;34m()\u001b[0m\n",
      "\u001b[0;32mpandas/_libs/index.pyx\u001b[0m in \u001b[0;36mpandas._libs.index.IndexEngine.get_loc\u001b[0;34m()\u001b[0m\n",
      "\u001b[0;32mpandas/_libs/hashtable_class_helper.pxi\u001b[0m in \u001b[0;36mpandas._libs.hashtable.Int64HashTable.get_item\u001b[0;34m()\u001b[0m\n",
      "\u001b[0;32mpandas/_libs/hashtable_class_helper.pxi\u001b[0m in \u001b[0;36mpandas._libs.hashtable.Int64HashTable.get_item\u001b[0;34m()\u001b[0m\n",
      "\u001b[0;31mKeyError\u001b[0m: 0"
     ]
    },
    {
     "data": {
      "image/png": "[encoded data removed]",
      "text/plain": [
       "<Figure size 1152x720 with 12 Axes>"
      ]
     },
     "metadata": {
      "needs_background": "light"
     },
     "output_type": "display_data"
    }
   ],
   "source": [
    "plot_num('Análise de Outliers das Variáveis Numéricas', df_outliers, 'boxplot')"
   ]
  },
  {
   "cell_type": "markdown",
   "metadata": {
    "colab_type": "text",
    "id": "NUfXIS2Fy8L7"
   },
   "source": [
    "Análise..."
   ]
  },
  {
   "cell_type": "markdown",
   "metadata": {
    "colab_type": "text",
    "id": "roaZHzWmuDUG"
   },
   "source": [
    "## Distribuição das variáveis numéricas"
   ]
  },
  {
   "cell_type": "code",
   "execution_count": 23,
   "metadata": {
    "colab": {
     "base_uri": "https://localhost:8080/",
     "height": 775
    },
    "colab_type": "code",
    "executionInfo": {
     "elapsed": 3344,
     "status": "ok",
     "timestamp": 1567717369934,
     "user": {
      "displayName": "Leonardo Silva do Nascimento",
      "photoUrl": "https://lh3.googleusercontent.com/a-/AAuE7mBfPjf6kUTebmVb6nGFV6eWEBcWlC8wn9u0XC1TEg=s64",
      "userId": "10422304398321499472"
     },
     "user_tz": 180
    },
    "id": "Jy7tqY_otwr8",
    "outputId": "4be8b730-7375-44bf-d794-adfbab94aa48"
   },
   "outputs": [
    {
     "data": {
      "image/png": "[encoded data removed]",
      "text/plain": [
       "<Figure size 1152x720 with 6 Axes>"
      ]
     },
     "metadata": {
      "needs_background": "light"
     },
     "output_type": "display_data"
    }
   ],
   "source": [
    "plot_num('Distribuição das Variáveis Numéricas', df_num)"
   ]
  },
  {
   "cell_type": "markdown",
   "metadata": {
    "colab_type": "text",
    "id": "M8lkmFMFt8hc"
   },
   "source": [
    "- E possível observar que a variável **Temperature** segue uma distribuição normal, porém há um skewness negativo, sendo possível analisar uma cauda maior para o lado esquerdo.\n",
    "- Ao observa as variáveis **Unemployment** e **Weekly_Sales**, é possível exengar uma semelhança com a distribuição normal, porém com tendo um coeficiente de assimetria positivo e uma curtose alta.\n",
    "- O restante das variáveis não parecem estar próxima de uma distribuição normal."
   ]
  },
  {
   "cell_type": "markdown",
   "metadata": {
    "colab_type": "text",
    "id": "OrQzyr09xPxa"
   },
   "source": [
    "## Distribuição das variáveis numéricas aplicando log"
   ]
  },
  {
   "cell_type": "code",
   "execution_count": 24,
   "metadata": {
    "colab": {
     "base_uri": "https://localhost:8080/",
     "height": 775
    },
    "colab_type": "code",
    "executionInfo": {
     "elapsed": 2562,
     "status": "ok",
     "timestamp": 1567717451763,
     "user": {
      "displayName": "Leonardo Silva do Nascimento",
      "photoUrl": "https://lh3.googleusercontent.com/a-/AAuE7mBfPjf6kUTebmVb6nGFV6eWEBcWlC8wn9u0XC1TEg=s64",
      "userId": "10422304398321499472"
     },
     "user_tz": 180
    },
    "id": "AWeXpFFfxQUU",
    "outputId": "eebd32f5-c17b-402b-886f-6a7520b86030"
   },
   "outputs": [
    {
     "data": {
      "image/png": "[encoded data removed]",
      "text/plain": [
       "<Figure size 1152x720 with 6 Axes>"
      ]
     },
     "metadata": {
      "needs_background": "light"
     },
     "output_type": "display_data"
    }
   ],
   "source": [
    "plot_num('Distribuição das Variáveis Numéricas', np.log(df_outliers))"
   ]
  },
  {
   "cell_type": "markdown",
   "metadata": {
    "colab_type": "text",
    "id": "-DKE8abky2mL"
   },
   "source": [
    "Análise..."
   ]
  },
  {
   "cell_type": "markdown",
   "metadata": {
    "colab_type": "text",
    "id": "v4tYGWAszFie"
   },
   "source": [
    "## Weekly_Sales (Target)"
   ]
  },
  {
   "cell_type": "code",
   "execution_count": 105,
   "metadata": {
    "colab": {
     "base_uri": "https://localhost:8080/",
     "height": 873
    },
    "colab_type": "code",
    "executionInfo": {
     "elapsed": 2381,
     "status": "ok",
     "timestamp": 1568043936541,
     "user": {
      "displayName": "Leonardo Silva do Nascimento",
      "photoUrl": "https://lh3.googleusercontent.com/a-/AAuE7mBfPjf6kUTebmVb6nGFV6eWEBcWlC8wn9u0XC1TEg=s64",
      "userId": "10422304398321499472"
     },
     "user_tz": 180
    },
    "id": "PWRw9FYdzJYg",
    "outputId": "db385a2b-54a7-4d02-bcf6-fb1f944f6f7a"
   },
   "outputs": [
    {
     "data": {
      "image/png": "[encoded data removed]",
      "text/plain": [
       "<Figure size 1728x864 with 4 Axes>"
      ]
     },
     "metadata": {
      "needs_background": "light"
     },
     "output_type": "display_data"
    }
   ],
   "source": [
    "plt.figure(figsize=(24, 12))\n",
    "\n",
    "plt.subplot(221)\n",
    "# sns.lineplot(x='Date', y='Weekly_Sales', data=df)\n",
    "probplot(df['Weekly_Sales'], plot=plt)\n",
    "\n",
    "plt.subplot(222)\n",
    "probplot(np.log(df['Weekly_Sales']), plot=plt)\n",
    "plt.title('log(Probability Plot)')\n",
    "\n",
    "plt.subplot(223)\n",
    "sns.distplot(df['Weekly_Sales'], hist=True, kde_kws={'shade': True})\n",
    "plt.title('Distribution Weekly Sales')\n",
    "\n",
    "plt.subplot(224)\n",
    "sns.distplot(np.log(df['Weekly_Sales']), hist=True, kde_kws={'shade': True})\n",
    "plt.title('log(Distribution Weekly Sales)')\n",
    "\n",
    "\n",
    "plt.tight_layout()\n",
    "\n",
    "plt.show()"
   ]
  },
  {
   "cell_type": "markdown",
   "metadata": {
    "colab_type": "text",
    "id": "c_Vsqwat-hMo"
   },
   "source": [
    "Analisando os gráfico é possível observar que a reta regressão não ajusta-se tão bem aos dados. Na parte inferior e também na parte superior os dados estão se distanciando da reta de regressão, gerando assim um maior erro para o modelo."
   ]
  },
  {
   "cell_type": "code",
   "execution_count": 106,
   "metadata": {
    "colab": {
     "base_uri": "https://localhost:8080/",
     "height": 227
    },
    "colab_type": "code",
    "executionInfo": {
     "elapsed": 571,
     "status": "ok",
     "timestamp": 1567717608988,
     "user": {
      "displayName": "Leonardo Silva do Nascimento",
      "photoUrl": "https://lh3.googleusercontent.com/a-/AAuE7mBfPjf6kUTebmVb6nGFV6eWEBcWlC8wn9u0XC1TEg=s64",
      "userId": "10422304398321499472"
     },
     "user_tz": 180
    },
    "id": "TNX-Vle4zJDT",
    "outputId": "5ed3b28d-ef8a-48f4-e183-a8a018c44a8c"
   },
   "outputs": [
    {
     "data": {
      "text/html": [
       "<div>\n",
       "<style scoped>\n",
       "    .dataframe tbody tr th:only-of-type {\n",
       "        vertical-align: middle;\n",
       "    }\n",
       "\n",
       "    .dataframe tbody tr th {\n",
       "        vertical-align: top;\n",
       "    }\n",
       "\n",
       "    .dataframe thead th {\n",
       "        text-align: right;\n",
       "    }\n",
       "</style>\n",
       "<table border=\"1\" class=\"dataframe\">\n",
       "  <thead>\n",
       "    <tr style=\"text-align: right;\">\n",
       "      <th></th>\n",
       "      <th>count</th>\n",
       "      <th>mean</th>\n",
       "      <th>std</th>\n",
       "      <th>min</th>\n",
       "      <th>25%</th>\n",
       "      <th>50%</th>\n",
       "      <th>75%</th>\n",
       "      <th>max</th>\n",
       "    </tr>\n",
       "  </thead>\n",
       "  <tbody>\n",
       "    <tr>\n",
       "      <th>Store</th>\n",
       "      <td>833.00</td>\n",
       "      <td>19.99</td>\n",
       "      <td>12.24</td>\n",
       "      <td>1.00</td>\n",
       "      <td>9.00</td>\n",
       "      <td>19.00</td>\n",
       "      <td>29.00</td>\n",
       "      <td>45.00</td>\n",
       "    </tr>\n",
       "    <tr>\n",
       "      <th>Temperature</th>\n",
       "      <td>833.00</td>\n",
       "      <td>63.21</td>\n",
       "      <td>16.56</td>\n",
       "      <td>7.46</td>\n",
       "      <td>52.21</td>\n",
       "      <td>65.95</td>\n",
       "      <td>75.81</td>\n",
       "      <td>95.91</td>\n",
       "    </tr>\n",
       "    <tr>\n",
       "      <th>Fuel_Price</th>\n",
       "      <td>833.00</td>\n",
       "      <td>3.68</td>\n",
       "      <td>0.25</td>\n",
       "      <td>3.04</td>\n",
       "      <td>3.51</td>\n",
       "      <td>3.69</td>\n",
       "      <td>3.87</td>\n",
       "      <td>4.30</td>\n",
       "    </tr>\n",
       "    <tr>\n",
       "      <th>MarkDown1</th>\n",
       "      <td>833.00</td>\n",
       "      <td>6488.51</td>\n",
       "      <td>3973.08</td>\n",
       "      <td>99.40</td>\n",
       "      <td>3453.42</td>\n",
       "      <td>5965.99</td>\n",
       "      <td>8679.19</td>\n",
       "      <td>20397.03</td>\n",
       "    </tr>\n",
       "    <tr>\n",
       "      <th>MarkDown2</th>\n",
       "      <td>833.00</td>\n",
       "      <td>670.53</td>\n",
       "      <td>1297.91</td>\n",
       "      <td>-265.76</td>\n",
       "      <td>30.70</td>\n",
       "      <td>126.67</td>\n",
       "      <td>475.99</td>\n",
       "      <td>6005.06</td>\n",
       "    </tr>\n",
       "    <tr>\n",
       "      <th>MarkDown3</th>\n",
       "      <td>833.00</td>\n",
       "      <td>39.39</td>\n",
       "      <td>56.85</td>\n",
       "      <td>-1.00</td>\n",
       "      <td>3.03</td>\n",
       "      <td>13.42</td>\n",
       "      <td>50.93</td>\n",
       "      <td>289.74</td>\n",
       "    </tr>\n",
       "    <tr>\n",
       "      <th>MarkDown4</th>\n",
       "      <td>833.00</td>\n",
       "      <td>2128.83</td>\n",
       "      <td>1982.23</td>\n",
       "      <td>0.46</td>\n",
       "      <td>590.68</td>\n",
       "      <td>1580.98</td>\n",
       "      <td>3068.98</td>\n",
       "      <td>9211.05</td>\n",
       "    </tr>\n",
       "    <tr>\n",
       "      <th>MarkDown5</th>\n",
       "      <td>833.00</td>\n",
       "      <td>3859.57</td>\n",
       "      <td>2345.91</td>\n",
       "      <td>180.07</td>\n",
       "      <td>2057.71</td>\n",
       "      <td>3376.66</td>\n",
       "      <td>5230.46</td>\n",
       "      <td>11870.68</td>\n",
       "    </tr>\n",
       "    <tr>\n",
       "      <th>CPI</th>\n",
       "      <td>833.00</td>\n",
       "      <td>177.37</td>\n",
       "      <td>39.73</td>\n",
       "      <td>129.82</td>\n",
       "      <td>137.92</td>\n",
       "      <td>191.17</td>\n",
       "      <td>221.00</td>\n",
       "      <td>227.04</td>\n",
       "    </tr>\n",
       "    <tr>\n",
       "      <th>Unemployment</th>\n",
       "      <td>833.00</td>\n",
       "      <td>7.17</td>\n",
       "      <td>1.49</td>\n",
       "      <td>4.08</td>\n",
       "      <td>6.17</td>\n",
       "      <td>7.14</td>\n",
       "      <td>8.19</td>\n",
       "      <td>10.93</td>\n",
       "    </tr>\n",
       "    <tr>\n",
       "      <th>Weekly_Sales</th>\n",
       "      <td>833.00</td>\n",
       "      <td>1131498.83</td>\n",
       "      <td>505496.86</td>\n",
       "      <td>215359.21</td>\n",
       "      <td>713173.95</td>\n",
       "      <td>1056992.18</td>\n",
       "      <td>1493659.74</td>\n",
       "      <td>2565259.92</td>\n",
       "    </tr>\n",
       "  </tbody>\n",
       "</table>\n",
       "</div>"
      ],
      "text/plain": [
       "              count       mean       std       min       25%        50%  \\\n",
       "Store        833.00      19.99     12.24      1.00      9.00      19.00   \n",
       "Temperature  833.00      63.21     16.56      7.46     52.21      65.95   \n",
       "Fuel_Price   833.00       3.68      0.25      3.04      3.51       3.69   \n",
       "MarkDown1    833.00    6488.51   3973.08     99.40   3453.42    5965.99   \n",
       "MarkDown2    833.00     670.53   1297.91   -265.76     30.70     126.67   \n",
       "MarkDown3    833.00      39.39     56.85     -1.00      3.03      13.42   \n",
       "MarkDown4    833.00    2128.83   1982.23      0.46    590.68    1580.98   \n",
       "MarkDown5    833.00    3859.57   2345.91    180.07   2057.71    3376.66   \n",
       "CPI          833.00     177.37     39.73    129.82    137.92     191.17   \n",
       "Unemployment 833.00       7.17      1.49      4.08      6.17       7.14   \n",
       "Weekly_Sales 833.00 1131498.83 505496.86 215359.21 713173.95 1056992.18   \n",
       "\n",
       "                    75%        max  \n",
       "Store             29.00      45.00  \n",
       "Temperature       75.81      95.91  \n",
       "Fuel_Price         3.87       4.30  \n",
       "MarkDown1       8679.19   20397.03  \n",
       "MarkDown2        475.99    6005.06  \n",
       "MarkDown3         50.93     289.74  \n",
       "MarkDown4       3068.98    9211.05  \n",
       "MarkDown5       5230.46   11870.68  \n",
       "CPI              221.00     227.04  \n",
       "Unemployment       8.19      10.93  \n",
       "Weekly_Sales 1493659.74 2565259.92  "
      ]
     },
     "execution_count": 106,
     "metadata": {},
     "output_type": "execute_result"
    }
   ],
   "source": [
    "df.describe().T"
   ]
  },
  {
   "cell_type": "markdown",
   "metadata": {
    "colab_type": "text",
    "id": "OTWb_tMXEdTu"
   },
   "source": [
    "# Transformações"
   ]
  },
  {
   "cell_type": "markdown",
   "metadata": {
    "colab_type": "text",
    "id": "1mxfscu9tdVE"
   },
   "source": [
    "## IsHoliday\n",
    "\n",
    "#### Transformando a variável IsHoliday de False e True para 0 e 1."
   ]
  },
  {
   "cell_type": "code",
   "execution_count": 107,
   "metadata": {
    "colab": {},
    "colab_type": "code",
    "id": "mMXPbQ2RsXY3"
   },
   "outputs": [],
   "source": [
    "df['IsHoliday'] = df['IsHoliday'].apply(lambda x: 1 if x else 0)"
   ]
  },
  {
   "cell_type": "code",
   "execution_count": 108,
   "metadata": {
    "colab": {
     "base_uri": "https://localhost:8080/",
     "height": 197
    },
    "colab_type": "code",
    "executionInfo": {
     "elapsed": 733,
     "status": "ok",
     "timestamp": 1567717673448,
     "user": {
      "displayName": "Leonardo Silva do Nascimento",
      "photoUrl": "https://lh3.googleusercontent.com/a-/AAuE7mBfPjf6kUTebmVb6nGFV6eWEBcWlC8wn9u0XC1TEg=s64",
      "userId": "10422304398321499472"
     },
     "user_tz": 180
    },
    "id": "F7uTuYcaykij",
    "outputId": "b39375b2-80b9-459c-e243-166565eadd70"
   },
   "outputs": [
    {
     "data": {
      "text/html": [
       "<div>\n",
       "<style scoped>\n",
       "    .dataframe tbody tr th:only-of-type {\n",
       "        vertical-align: middle;\n",
       "    }\n",
       "\n",
       "    .dataframe tbody tr th {\n",
       "        vertical-align: top;\n",
       "    }\n",
       "\n",
       "    .dataframe thead th {\n",
       "        text-align: right;\n",
       "    }\n",
       "</style>\n",
       "<table border=\"1\" class=\"dataframe\">\n",
       "  <thead>\n",
       "    <tr style=\"text-align: right;\">\n",
       "      <th></th>\n",
       "      <th>Store</th>\n",
       "      <th>Date</th>\n",
       "      <th>Temperature</th>\n",
       "      <th>Fuel_Price</th>\n",
       "      <th>MarkDown1</th>\n",
       "      <th>MarkDown2</th>\n",
       "      <th>MarkDown3</th>\n",
       "      <th>MarkDown4</th>\n",
       "      <th>MarkDown5</th>\n",
       "      <th>CPI</th>\n",
       "      <th>Unemployment</th>\n",
       "      <th>IsHoliday</th>\n",
       "      <th>Weekly_Sales</th>\n",
       "    </tr>\n",
       "  </thead>\n",
       "  <tbody>\n",
       "    <tr>\n",
       "      <th>1</th>\n",
       "      <td>1</td>\n",
       "      <td>2011-11-18</td>\n",
       "      <td>62.25</td>\n",
       "      <td>3.31</td>\n",
       "      <td>6074.12</td>\n",
       "      <td>254.39</td>\n",
       "      <td>51.98</td>\n",
       "      <td>427.39</td>\n",
       "      <td>5988.57</td>\n",
       "      <td>218.22</td>\n",
       "      <td>7.87</td>\n",
       "      <td>0</td>\n",
       "      <td>1539483.70</td>\n",
       "    </tr>\n",
       "    <tr>\n",
       "      <th>10</th>\n",
       "      <td>1</td>\n",
       "      <td>2012-01-20</td>\n",
       "      <td>54.11</td>\n",
       "      <td>3.27</td>\n",
       "      <td>4139.87</td>\n",
       "      <td>2807.19</td>\n",
       "      <td>33.88</td>\n",
       "      <td>500.62</td>\n",
       "      <td>3400.21</td>\n",
       "      <td>219.99</td>\n",
       "      <td>7.35</td>\n",
       "      <td>0</td>\n",
       "      <td>1394393.84</td>\n",
       "    </tr>\n",
       "    <tr>\n",
       "      <th>11</th>\n",
       "      <td>1</td>\n",
       "      <td>2012-01-27</td>\n",
       "      <td>54.26</td>\n",
       "      <td>3.29</td>\n",
       "      <td>1164.46</td>\n",
       "      <td>1082.74</td>\n",
       "      <td>44.00</td>\n",
       "      <td>11.00</td>\n",
       "      <td>1222.19</td>\n",
       "      <td>220.08</td>\n",
       "      <td>7.35</td>\n",
       "      <td>0</td>\n",
       "      <td>1319325.59</td>\n",
       "    </tr>\n",
       "    <tr>\n",
       "      <th>17</th>\n",
       "      <td>1</td>\n",
       "      <td>2012-09-03</td>\n",
       "      <td>58.76</td>\n",
       "      <td>3.67</td>\n",
       "      <td>10331.04</td>\n",
       "      <td>151.88</td>\n",
       "      <td>6.00</td>\n",
       "      <td>671.43</td>\n",
       "      <td>5509.84</td>\n",
       "      <td>221.06</td>\n",
       "      <td>7.35</td>\n",
       "      <td>0</td>\n",
       "      <td>1675431.16</td>\n",
       "    </tr>\n",
       "    <tr>\n",
       "      <th>18</th>\n",
       "      <td>1</td>\n",
       "      <td>2012-03-16</td>\n",
       "      <td>64.74</td>\n",
       "      <td>3.73</td>\n",
       "      <td>4298.16</td>\n",
       "      <td>7.50</td>\n",
       "      <td>2.02</td>\n",
       "      <td>2724.65</td>\n",
       "      <td>2017.69</td>\n",
       "      <td>221.21</td>\n",
       "      <td>7.35</td>\n",
       "      <td>0</td>\n",
       "      <td>1677472.78</td>\n",
       "    </tr>\n",
       "  </tbody>\n",
       "</table>\n",
       "</div>"
      ],
      "text/plain": [
       "    Store       Date  Temperature  Fuel_Price  MarkDown1  MarkDown2  \\\n",
       "1       1 2011-11-18        62.25        3.31    6074.12     254.39   \n",
       "10      1 2012-01-20        54.11        3.27    4139.87    2807.19   \n",
       "11      1 2012-01-27        54.26        3.29    1164.46    1082.74   \n",
       "17      1 2012-09-03        58.76        3.67   10331.04     151.88   \n",
       "18      1 2012-03-16        64.74        3.73    4298.16       7.50   \n",
       "\n",
       "    MarkDown3  MarkDown4  MarkDown5    CPI  Unemployment  IsHoliday  \\\n",
       "1       51.98     427.39    5988.57 218.22          7.87          0   \n",
       "10      33.88     500.62    3400.21 219.99          7.35          0   \n",
       "11      44.00      11.00    1222.19 220.08          7.35          0   \n",
       "17       6.00     671.43    5509.84 221.06          7.35          0   \n",
       "18       2.02    2724.65    2017.69 221.21          7.35          0   \n",
       "\n",
       "    Weekly_Sales  \n",
       "1     1539483.70  \n",
       "10    1394393.84  \n",
       "11    1319325.59  \n",
       "17    1675431.16  \n",
       "18    1677472.78  "
      ]
     },
     "execution_count": 108,
     "metadata": {},
     "output_type": "execute_result"
    }
   ],
   "source": [
    "df.head()"
   ]
  },
  {
   "cell_type": "markdown",
   "metadata": {
    "colab_type": "text",
    "id": "XGRTyEL8taZ1"
   },
   "source": [
    "## Store\n",
    "\n",
    "#### Removendo o ID da loja"
   ]
  },
  {
   "cell_type": "code",
   "execution_count": 109,
   "metadata": {
    "colab": {},
    "colab_type": "code",
    "id": "73dmveZ5Fiu1"
   },
   "outputs": [],
   "source": [
    "df.drop(['Store'], axis=1, inplace=True)"
   ]
  },
  {
   "cell_type": "code",
   "execution_count": 110,
   "metadata": {
    "colab": {
     "base_uri": "https://localhost:8080/",
     "height": 197
    },
    "colab_type": "code",
    "executionInfo": {
     "elapsed": 670,
     "status": "ok",
     "timestamp": 1567717686087,
     "user": {
      "displayName": "Leonardo Silva do Nascimento",
      "photoUrl": "https://lh3.googleusercontent.com/a-/AAuE7mBfPjf6kUTebmVb6nGFV6eWEBcWlC8wn9u0XC1TEg=s64",
      "userId": "10422304398321499472"
     },
     "user_tz": 180
    },
    "id": "vTI0AtHoQEBF",
    "outputId": "205bc2f0-6c4e-45e5-9287-f8d2f07c9ca4"
   },
   "outputs": [
    {
     "data": {
      "text/html": [
       "<div>\n",
       "<style scoped>\n",
       "    .dataframe tbody tr th:only-of-type {\n",
       "        vertical-align: middle;\n",
       "    }\n",
       "\n",
       "    .dataframe tbody tr th {\n",
       "        vertical-align: top;\n",
       "    }\n",
       "\n",
       "    .dataframe thead th {\n",
       "        text-align: right;\n",
       "    }\n",
       "</style>\n",
       "<table border=\"1\" class=\"dataframe\">\n",
       "  <thead>\n",
       "    <tr style=\"text-align: right;\">\n",
       "      <th></th>\n",
       "      <th>Date</th>\n",
       "      <th>Temperature</th>\n",
       "      <th>Fuel_Price</th>\n",
       "      <th>MarkDown1</th>\n",
       "      <th>MarkDown2</th>\n",
       "      <th>MarkDown3</th>\n",
       "      <th>MarkDown4</th>\n",
       "      <th>MarkDown5</th>\n",
       "      <th>CPI</th>\n",
       "      <th>Unemployment</th>\n",
       "      <th>IsHoliday</th>\n",
       "      <th>Weekly_Sales</th>\n",
       "    </tr>\n",
       "  </thead>\n",
       "  <tbody>\n",
       "    <tr>\n",
       "      <th>1</th>\n",
       "      <td>2011-11-18</td>\n",
       "      <td>62.25</td>\n",
       "      <td>3.31</td>\n",
       "      <td>6074.12</td>\n",
       "      <td>254.39</td>\n",
       "      <td>51.98</td>\n",
       "      <td>427.39</td>\n",
       "      <td>5988.57</td>\n",
       "      <td>218.22</td>\n",
       "      <td>7.87</td>\n",
       "      <td>0</td>\n",
       "      <td>1539483.70</td>\n",
       "    </tr>\n",
       "    <tr>\n",
       "      <th>10</th>\n",
       "      <td>2012-01-20</td>\n",
       "      <td>54.11</td>\n",
       "      <td>3.27</td>\n",
       "      <td>4139.87</td>\n",
       "      <td>2807.19</td>\n",
       "      <td>33.88</td>\n",
       "      <td>500.62</td>\n",
       "      <td>3400.21</td>\n",
       "      <td>219.99</td>\n",
       "      <td>7.35</td>\n",
       "      <td>0</td>\n",
       "      <td>1394393.84</td>\n",
       "    </tr>\n",
       "    <tr>\n",
       "      <th>11</th>\n",
       "      <td>2012-01-27</td>\n",
       "      <td>54.26</td>\n",
       "      <td>3.29</td>\n",
       "      <td>1164.46</td>\n",
       "      <td>1082.74</td>\n",
       "      <td>44.00</td>\n",
       "      <td>11.00</td>\n",
       "      <td>1222.19</td>\n",
       "      <td>220.08</td>\n",
       "      <td>7.35</td>\n",
       "      <td>0</td>\n",
       "      <td>1319325.59</td>\n",
       "    </tr>\n",
       "    <tr>\n",
       "      <th>17</th>\n",
       "      <td>2012-09-03</td>\n",
       "      <td>58.76</td>\n",
       "      <td>3.67</td>\n",
       "      <td>10331.04</td>\n",
       "      <td>151.88</td>\n",
       "      <td>6.00</td>\n",
       "      <td>671.43</td>\n",
       "      <td>5509.84</td>\n",
       "      <td>221.06</td>\n",
       "      <td>7.35</td>\n",
       "      <td>0</td>\n",
       "      <td>1675431.16</td>\n",
       "    </tr>\n",
       "    <tr>\n",
       "      <th>18</th>\n",
       "      <td>2012-03-16</td>\n",
       "      <td>64.74</td>\n",
       "      <td>3.73</td>\n",
       "      <td>4298.16</td>\n",
       "      <td>7.50</td>\n",
       "      <td>2.02</td>\n",
       "      <td>2724.65</td>\n",
       "      <td>2017.69</td>\n",
       "      <td>221.21</td>\n",
       "      <td>7.35</td>\n",
       "      <td>0</td>\n",
       "      <td>1677472.78</td>\n",
       "    </tr>\n",
       "  </tbody>\n",
       "</table>\n",
       "</div>"
      ],
      "text/plain": [
       "         Date  Temperature  Fuel_Price  MarkDown1  MarkDown2  MarkDown3  \\\n",
       "1  2011-11-18        62.25        3.31    6074.12     254.39      51.98   \n",
       "10 2012-01-20        54.11        3.27    4139.87    2807.19      33.88   \n",
       "11 2012-01-27        54.26        3.29    1164.46    1082.74      44.00   \n",
       "17 2012-09-03        58.76        3.67   10331.04     151.88       6.00   \n",
       "18 2012-03-16        64.74        3.73    4298.16       7.50       2.02   \n",
       "\n",
       "    MarkDown4  MarkDown5    CPI  Unemployment  IsHoliday  Weekly_Sales  \n",
       "1      427.39    5988.57 218.22          7.87          0    1539483.70  \n",
       "10     500.62    3400.21 219.99          7.35          0    1394393.84  \n",
       "11      11.00    1222.19 220.08          7.35          0    1319325.59  \n",
       "17     671.43    5509.84 221.06          7.35          0    1675431.16  \n",
       "18    2724.65    2017.69 221.21          7.35          0    1677472.78  "
      ]
     },
     "execution_count": 110,
     "metadata": {},
     "output_type": "execute_result"
    }
   ],
   "source": [
    "df.head()"
   ]
  },
  {
   "cell_type": "markdown",
   "metadata": {
    "colab_type": "text",
    "id": "SHbpNH5gN93g"
   },
   "source": [
    "## Date"
   ]
  },
  {
   "cell_type": "code",
   "execution_count": 111,
   "metadata": {
    "colab": {},
    "colab_type": "code",
    "id": "TzPJMopkN9KG"
   },
   "outputs": [],
   "source": [
    "df = df.drop(['Date'], axis=1)"
   ]
  },
  {
   "cell_type": "markdown",
   "metadata": {
    "colab_type": "text",
    "id": "TyNeExlnCwhS"
   },
   "source": [
    "# Modelagem"
   ]
  },
  {
   "cell_type": "markdown",
   "metadata": {
    "colab_type": "text",
    "id": "SzmDMEfGUddQ"
   },
   "source": [
    "## Correlação"
   ]
  },
  {
   "cell_type": "code",
   "execution_count": 112,
   "metadata": {
    "colab": {
     "base_uri": "https://localhost:8080/",
     "height": 227
    },
    "colab_type": "code",
    "executionInfo": {
     "elapsed": 576,
     "status": "ok",
     "timestamp": 1567717693180,
     "user": {
      "displayName": "Leonardo Silva do Nascimento",
      "photoUrl": "https://lh3.googleusercontent.com/a-/AAuE7mBfPjf6kUTebmVb6nGFV6eWEBcWlC8wn9u0XC1TEg=s64",
      "userId": "10422304398321499472"
     },
     "user_tz": 180
    },
    "id": "aMy7sF4ODN-e",
    "outputId": "16899a0e-2bc3-4c0d-a7a3-eff07e8c86e7"
   },
   "outputs": [
    {
     "data": {
      "text/html": [
       "<div>\n",
       "<style scoped>\n",
       "    .dataframe tbody tr th:only-of-type {\n",
       "        vertical-align: middle;\n",
       "    }\n",
       "\n",
       "    .dataframe tbody tr th {\n",
       "        vertical-align: top;\n",
       "    }\n",
       "\n",
       "    .dataframe thead th {\n",
       "        text-align: right;\n",
       "    }\n",
       "</style>\n",
       "<table border=\"1\" class=\"dataframe\">\n",
       "  <thead>\n",
       "    <tr style=\"text-align: right;\">\n",
       "      <th></th>\n",
       "      <th>Temperature</th>\n",
       "      <th>Fuel_Price</th>\n",
       "      <th>MarkDown1</th>\n",
       "      <th>MarkDown2</th>\n",
       "      <th>MarkDown3</th>\n",
       "      <th>MarkDown4</th>\n",
       "      <th>MarkDown5</th>\n",
       "      <th>CPI</th>\n",
       "      <th>Unemployment</th>\n",
       "      <th>IsHoliday</th>\n",
       "      <th>Weekly_Sales</th>\n",
       "    </tr>\n",
       "  </thead>\n",
       "  <tbody>\n",
       "    <tr>\n",
       "      <th>Temperature</th>\n",
       "      <td>1.00</td>\n",
       "      <td>0.00</td>\n",
       "      <td>0.15</td>\n",
       "      <td>-0.47</td>\n",
       "      <td>-0.10</td>\n",
       "      <td>0.28</td>\n",
       "      <td>0.14</td>\n",
       "      <td>0.20</td>\n",
       "      <td>-0.01</td>\n",
       "      <td>0.06</td>\n",
       "      <td>0.19</td>\n",
       "    </tr>\n",
       "    <tr>\n",
       "      <th>Fuel_Price</th>\n",
       "      <td>0.00</td>\n",
       "      <td>1.00</td>\n",
       "      <td>0.18</td>\n",
       "      <td>-0.07</td>\n",
       "      <td>-0.15</td>\n",
       "      <td>-0.04</td>\n",
       "      <td>-0.07</td>\n",
       "      <td>-0.39</td>\n",
       "      <td>0.23</td>\n",
       "      <td>0.04</td>\n",
       "      <td>0.09</td>\n",
       "    </tr>\n",
       "    <tr>\n",
       "      <th>MarkDown1</th>\n",
       "      <td>0.15</td>\n",
       "      <td>0.18</td>\n",
       "      <td>1.00</td>\n",
       "      <td>-0.07</td>\n",
       "      <td>0.13</td>\n",
       "      <td>0.53</td>\n",
       "      <td>0.32</td>\n",
       "      <td>-0.07</td>\n",
       "      <td>0.05</td>\n",
       "      <td>0.16</td>\n",
       "      <td>0.37</td>\n",
       "    </tr>\n",
       "    <tr>\n",
       "      <th>MarkDown2</th>\n",
       "      <td>-0.47</td>\n",
       "      <td>-0.07</td>\n",
       "      <td>-0.07</td>\n",
       "      <td>1.00</td>\n",
       "      <td>0.02</td>\n",
       "      <td>-0.07</td>\n",
       "      <td>-0.01</td>\n",
       "      <td>-0.02</td>\n",
       "      <td>0.01</td>\n",
       "      <td>0.02</td>\n",
       "      <td>-0.04</td>\n",
       "    </tr>\n",
       "    <tr>\n",
       "      <th>MarkDown3</th>\n",
       "      <td>-0.10</td>\n",
       "      <td>-0.15</td>\n",
       "      <td>0.13</td>\n",
       "      <td>0.02</td>\n",
       "      <td>1.00</td>\n",
       "      <td>0.02</td>\n",
       "      <td>0.15</td>\n",
       "      <td>-0.01</td>\n",
       "      <td>0.03</td>\n",
       "      <td>0.04</td>\n",
       "      <td>0.21</td>\n",
       "    </tr>\n",
       "    <tr>\n",
       "      <th>MarkDown4</th>\n",
       "      <td>0.28</td>\n",
       "      <td>-0.04</td>\n",
       "      <td>0.53</td>\n",
       "      <td>-0.07</td>\n",
       "      <td>0.02</td>\n",
       "      <td>1.00</td>\n",
       "      <td>0.24</td>\n",
       "      <td>-0.06</td>\n",
       "      <td>0.01</td>\n",
       "      <td>0.12</td>\n",
       "      <td>0.31</td>\n",
       "    </tr>\n",
       "    <tr>\n",
       "      <th>MarkDown5</th>\n",
       "      <td>0.14</td>\n",
       "      <td>-0.07</td>\n",
       "      <td>0.32</td>\n",
       "      <td>-0.01</td>\n",
       "      <td>0.15</td>\n",
       "      <td>0.24</td>\n",
       "      <td>1.00</td>\n",
       "      <td>0.03</td>\n",
       "      <td>-0.04</td>\n",
       "      <td>0.00</td>\n",
       "      <td>0.47</td>\n",
       "    </tr>\n",
       "    <tr>\n",
       "      <th>CPI</th>\n",
       "      <td>0.20</td>\n",
       "      <td>-0.39</td>\n",
       "      <td>-0.07</td>\n",
       "      <td>-0.02</td>\n",
       "      <td>-0.01</td>\n",
       "      <td>-0.06</td>\n",
       "      <td>0.03</td>\n",
       "      <td>1.00</td>\n",
       "      <td>-0.26</td>\n",
       "      <td>0.02</td>\n",
       "      <td>-0.10</td>\n",
       "    </tr>\n",
       "    <tr>\n",
       "      <th>Unemployment</th>\n",
       "      <td>-0.01</td>\n",
       "      <td>0.23</td>\n",
       "      <td>0.05</td>\n",
       "      <td>0.01</td>\n",
       "      <td>0.03</td>\n",
       "      <td>0.01</td>\n",
       "      <td>-0.04</td>\n",
       "      <td>-0.26</td>\n",
       "      <td>1.00</td>\n",
       "      <td>0.01</td>\n",
       "      <td>-0.14</td>\n",
       "    </tr>\n",
       "    <tr>\n",
       "      <th>IsHoliday</th>\n",
       "      <td>0.06</td>\n",
       "      <td>0.04</td>\n",
       "      <td>0.16</td>\n",
       "      <td>0.02</td>\n",
       "      <td>0.04</td>\n",
       "      <td>0.12</td>\n",
       "      <td>0.00</td>\n",
       "      <td>0.02</td>\n",
       "      <td>0.01</td>\n",
       "      <td>1.00</td>\n",
       "      <td>-0.01</td>\n",
       "    </tr>\n",
       "    <tr>\n",
       "      <th>Weekly_Sales</th>\n",
       "      <td>0.19</td>\n",
       "      <td>0.09</td>\n",
       "      <td>0.37</td>\n",
       "      <td>-0.04</td>\n",
       "      <td>0.21</td>\n",
       "      <td>0.31</td>\n",
       "      <td>0.47</td>\n",
       "      <td>-0.10</td>\n",
       "      <td>-0.14</td>\n",
       "      <td>-0.01</td>\n",
       "      <td>1.00</td>\n",
       "    </tr>\n",
       "  </tbody>\n",
       "</table>\n",
       "</div>"
      ],
      "text/plain": [
       "              Temperature  Fuel_Price  MarkDown1  MarkDown2  MarkDown3  \\\n",
       "Temperature          1.00        0.00       0.15      -0.47      -0.10   \n",
       "Fuel_Price           0.00        1.00       0.18      -0.07      -0.15   \n",
       "MarkDown1            0.15        0.18       1.00      -0.07       0.13   \n",
       "MarkDown2           -0.47       -0.07      -0.07       1.00       0.02   \n",
       "MarkDown3           -0.10       -0.15       0.13       0.02       1.00   \n",
       "MarkDown4            0.28       -0.04       0.53      -0.07       0.02   \n",
       "MarkDown5            0.14       -0.07       0.32      -0.01       0.15   \n",
       "CPI                  0.20       -0.39      -0.07      -0.02      -0.01   \n",
       "Unemployment        -0.01        0.23       0.05       0.01       0.03   \n",
       "IsHoliday            0.06        0.04       0.16       0.02       0.04   \n",
       "Weekly_Sales         0.19        0.09       0.37      -0.04       0.21   \n",
       "\n",
       "              MarkDown4  MarkDown5   CPI  Unemployment  IsHoliday  \\\n",
       "Temperature        0.28       0.14  0.20         -0.01       0.06   \n",
       "Fuel_Price        -0.04      -0.07 -0.39          0.23       0.04   \n",
       "MarkDown1          0.53       0.32 -0.07          0.05       0.16   \n",
       "MarkDown2         -0.07      -0.01 -0.02          0.01       0.02   \n",
       "MarkDown3          0.02       0.15 -0.01          0.03       0.04   \n",
       "MarkDown4          1.00       0.24 -0.06          0.01       0.12   \n",
       "MarkDown5          0.24       1.00  0.03         -0.04       0.00   \n",
       "CPI               -0.06       0.03  1.00         -0.26       0.02   \n",
       "Unemployment       0.01      -0.04 -0.26          1.00       0.01   \n",
       "IsHoliday          0.12       0.00  0.02          0.01       1.00   \n",
       "Weekly_Sales       0.31       0.47 -0.10         -0.14      -0.01   \n",
       "\n",
       "              Weekly_Sales  \n",
       "Temperature           0.19  \n",
       "Fuel_Price            0.09  \n",
       "MarkDown1             0.37  \n",
       "MarkDown2            -0.04  \n",
       "MarkDown3             0.21  \n",
       "MarkDown4             0.31  \n",
       "MarkDown5             0.47  \n",
       "CPI                  -0.10  \n",
       "Unemployment         -0.14  \n",
       "IsHoliday            -0.01  \n",
       "Weekly_Sales          1.00  "
      ]
     },
     "execution_count": 112,
     "metadata": {},
     "output_type": "execute_result"
    }
   ],
   "source": [
    "df.corr()"
   ]
  },
  {
   "cell_type": "code",
   "execution_count": 113,
   "metadata": {
    "colab": {
     "base_uri": "https://localhost:8080/",
     "height": 141
    },
    "colab_type": "code",
    "executionInfo": {
     "elapsed": 594,
     "status": "ok",
     "timestamp": 1567717709517,
     "user": {
      "displayName": "Leonardo Silva do Nascimento",
      "photoUrl": "https://lh3.googleusercontent.com/a-/AAuE7mBfPjf6kUTebmVb6nGFV6eWEBcWlC8wn9u0XC1TEg=s64",
      "userId": "10422304398321499472"
     },
     "user_tz": 180
    },
    "id": "JzqXGBpjDDDV",
    "outputId": "db7f1650-86a3-422b-e402-73e5a873d72e"
   },
   "outputs": [
    {
     "data": {
      "text/plain": [
       "Weekly_Sales    1.00\n",
       "MarkDown5       0.47\n",
       "MarkDown1       0.37\n",
       "MarkDown4       0.31\n",
       "MarkDown3       0.21\n",
       "Temperature     0.19\n",
       "Fuel_Price      0.09\n",
       "IsHoliday      -0.01\n",
       "MarkDown2      -0.04\n",
       "CPI            -0.10\n",
       "Unemployment   -0.14\n",
       "Name: Weekly_Sales, dtype: float64"
      ]
     },
     "execution_count": 113,
     "metadata": {},
     "output_type": "execute_result"
    }
   ],
   "source": [
    "df.corr()['Weekly_Sales'].sort_values(ascending=False)"
   ]
  },
  {
   "cell_type": "code",
   "execution_count": 114,
   "metadata": {
    "colab": {
     "base_uri": "https://localhost:8080/",
     "height": 691
    },
    "colab_type": "code",
    "executionInfo": {
     "elapsed": 1391,
     "status": "ok",
     "timestamp": 1567717714901,
     "user": {
      "displayName": "Leonardo Silva do Nascimento",
      "photoUrl": "https://lh3.googleusercontent.com/a-/AAuE7mBfPjf6kUTebmVb6nGFV6eWEBcWlC8wn9u0XC1TEg=s64",
      "userId": "10422304398321499472"
     },
     "user_tz": 180
    },
    "id": "WbbIMqZwqUOo",
    "outputId": "6f6ac611-deb3-4e99-df12-398d372e6acb"
   },
   "outputs": [
    {
     "data": {
      "image/png": "[encoded data removed]",
      "text/plain": [
       "<Figure size 1008x864 with 2 Axes>"
      ]
     },
     "metadata": {
      "needs_background": "light"
     },
     "output_type": "display_data"
    }
   ],
   "source": [
    "plt.figure(figsize=(14, 12))\n",
    "\n",
    "sns.heatmap(df.corr(), linewidths=0.01, cmap='coolwarm', square=True, annot=True, fmt='.2f')\n",
    "\n",
    "plt.show()"
   ]
  },
  {
   "cell_type": "markdown",
   "metadata": {
    "colab_type": "text",
    "id": "kKtHTJxiUjHc"
   },
   "source": [
    "Ao analisar os resultados das correlações das variáveis preditoras com a variável resposta, observa-se um valor muito pequeno. Seguiremos adianta para a análise do modelo e observaremos o nível de importância dessas variável."
   ]
  },
  {
   "cell_type": "markdown",
   "metadata": {},
   "source": [
    "### Save dataframe cleaned"
   ]
  },
  {
   "cell_type": "code",
   "execution_count": 25,
   "metadata": {},
   "outputs": [
    {
     "data": {
      "text/plain": [
       "['../backup/df_limpo.gz']"
      ]
     },
     "execution_count": 25,
     "metadata": {},
     "output_type": "execute_result"
    }
   ],
   "source": [
    "joblib.dump(df, '../backup/df_limpo.gz', compress=True)"
   ]
  },
  {
   "cell_type": "code",
   "execution_count": 10,
   "metadata": {},
   "outputs": [],
   "source": [
    "df = joblib.load('../backup/df_limpo.gz')"
   ]
  },
  {
   "cell_type": "markdown",
   "metadata": {
    "colab_type": "text",
    "id": "oiMGAzBwUgkI"
   },
   "source": [
    "## Divisão dos dados"
   ]
  },
  {
   "cell_type": "code",
   "execution_count": null,
   "metadata": {
    "colab": {
     "base_uri": "https://localhost:8080/",
     "height": 197
    },
    "colab_type": "code",
    "executionInfo": {
     "elapsed": 573,
     "status": "ok",
     "timestamp": 1567717871353,
     "user": {
      "displayName": "Leonardo Silva do Nascimento",
      "photoUrl": "https://lh3.googleusercontent.com/a-/AAuE7mBfPjf6kUTebmVb6nGFV6eWEBcWlC8wn9u0XC1TEg=s64",
      "userId": "10422304398321499472"
     },
     "user_tz": 180
    },
    "id": "_yLVZJVBUsMW",
    "outputId": "984542b5-8758-4ac3-ed6b-8e644625f294"
   },
   "outputs": [
    {
     "data": {
      "text/html": [
       "<div>\n",
       "<style scoped>\n",
       "    .dataframe tbody tr th:only-of-type {\n",
       "        vertical-align: middle;\n",
       "    }\n",
       "\n",
       "    .dataframe tbody tr th {\n",
       "        vertical-align: top;\n",
       "    }\n",
       "\n",
       "    .dataframe thead th {\n",
       "        text-align: right;\n",
       "    }\n",
       "</style>\n",
       "<table border=\"1\" class=\"dataframe\">\n",
       "  <thead>\n",
       "    <tr style=\"text-align: right;\">\n",
       "      <th></th>\n",
       "      <th>Temperature</th>\n",
       "      <th>Fuel_Price</th>\n",
       "      <th>CPI</th>\n",
       "      <th>Unemployment</th>\n",
       "      <th>IsHoliday</th>\n",
       "      <th>Weekly_Sales</th>\n",
       "    </tr>\n",
       "  </thead>\n",
       "  <tbody>\n",
       "    <tr>\n",
       "      <th>0</th>\n",
       "      <td>42.31</td>\n",
       "      <td>2.57</td>\n",
       "      <td>211.10</td>\n",
       "      <td>8.11</td>\n",
       "      <td>0</td>\n",
       "      <td>1643690.90</td>\n",
       "    </tr>\n",
       "    <tr>\n",
       "      <th>1</th>\n",
       "      <td>38.51</td>\n",
       "      <td>2.55</td>\n",
       "      <td>211.24</td>\n",
       "      <td>8.11</td>\n",
       "      <td>1</td>\n",
       "      <td>1641957.44</td>\n",
       "    </tr>\n",
       "    <tr>\n",
       "      <th>2</th>\n",
       "      <td>39.93</td>\n",
       "      <td>2.51</td>\n",
       "      <td>211.29</td>\n",
       "      <td>8.11</td>\n",
       "      <td>0</td>\n",
       "      <td>1611968.17</td>\n",
       "    </tr>\n",
       "    <tr>\n",
       "      <th>3</th>\n",
       "      <td>46.63</td>\n",
       "      <td>2.56</td>\n",
       "      <td>211.32</td>\n",
       "      <td>8.11</td>\n",
       "      <td>0</td>\n",
       "      <td>1409727.59</td>\n",
       "    </tr>\n",
       "    <tr>\n",
       "      <th>4</th>\n",
       "      <td>46.50</td>\n",
       "      <td>2.62</td>\n",
       "      <td>211.35</td>\n",
       "      <td>8.11</td>\n",
       "      <td>0</td>\n",
       "      <td>1554806.68</td>\n",
       "    </tr>\n",
       "  </tbody>\n",
       "</table>\n",
       "</div>"
      ],
      "text/plain": [
       "   Temperature  Fuel_Price    CPI  Unemployment  IsHoliday  Weekly_Sales\n",
       "0        42.31        2.57 211.10          8.11          0    1643690.90\n",
       "1        38.51        2.55 211.24          8.11          1    1641957.44\n",
       "2        39.93        2.51 211.29          8.11          0    1611968.17\n",
       "3        46.63        2.56 211.32          8.11          0    1409727.59\n",
       "4        46.50        2.62 211.35          8.11          0    1554806.68"
      ]
     },
     "execution_count": 41,
     "metadata": {
      "tags": []
     },
     "output_type": "execute_result"
    }
   ],
   "source": [
    "df.head()"
   ]
  },
  {
   "cell_type": "code",
   "execution_count": 23,
   "metadata": {
    "colab": {},
    "colab_type": "code",
    "id": "YAz73_XSUmfY"
   },
   "outputs": [],
   "source": [
    "X, y = df.drop(['Weekly_Sales'], axis=1), df['Weekly_Sales']"
   ]
  },
  {
   "cell_type": "code",
   "execution_count": 24,
   "metadata": {
    "colab": {},
    "colab_type": "code",
    "id": "v1VPlq9nU0Og"
   },
   "outputs": [],
   "source": [
    "X_train, X_test, y_train, y_test = train_test_split(X, y, test_size=0.3, random_state=0)"
   ]
  },
  {
   "cell_type": "code",
   "execution_count": 25,
   "metadata": {
    "colab": {
     "base_uri": "https://localhost:8080/",
     "height": 34
    },
    "colab_type": "code",
    "executionInfo": {
     "elapsed": 583,
     "status": "ok",
     "timestamp": 1568044328332,
     "user": {
      "displayName": "Leonardo Silva do Nascimento",
      "photoUrl": "https://lh3.googleusercontent.com/a-/AAuE7mBfPjf6kUTebmVb6nGFV6eWEBcWlC8wn9u0XC1TEg=s64",
      "userId": "10422304398321499472"
     },
     "user_tz": 180
    },
    "id": "wlDFQDxQVFCr",
    "outputId": "6eef1d08-53c1-47f4-b192-f40e0fc68d85"
   },
   "outputs": [
    {
     "data": {
      "text/plain": [
       "((5279, 5), (2263, 5))"
      ]
     },
     "execution_count": 25,
     "metadata": {},
     "output_type": "execute_result"
    }
   ],
   "source": [
    "X_train.shape, X_test.shape"
   ]
  },
  {
   "cell_type": "markdown",
   "metadata": {
    "colab_type": "text",
    "id": "0jXUldrgZacW"
   },
   "source": [
    "## Pipelines"
   ]
  },
  {
   "cell_type": "code",
   "execution_count": null,
   "metadata": {
    "colab": {},
    "colab_type": "code",
    "id": "66bySyeiZctf"
   },
   "outputs": [],
   "source": [
    "# ============================================================\n",
    "# StandardScaler\n",
    "# ============================================================\n",
    "\n",
    "pip_1 = Pipeline([\n",
    "    ('scaler', StandardScaler()),\n",
    "    ('model', LinearRegression())\n",
    "])\n",
    "\n",
    "pip_2 = Pipeline([\n",
    "    ('scaler', StandardScaler()),\n",
    "    ('model', ElasticNet())\n",
    "])\n",
    "\n",
    "pip_3 = Pipeline([\n",
    "    ('scaler', StandardScaler()),\n",
    "    ('model', DecisionTreeRegressor())\n",
    "])\n",
    "\n",
    "pip_4 = Pipeline([\n",
    "    ('scaler', StandardScaler()),\n",
    "    ('model', SVR(kernel='linear'))\n",
    "])\n",
    "\n",
    "pip_5 = Pipeline([\n",
    "    ('scaler', StandardScaler()),\n",
    "    ('model', SVR(kernel='poly'))\n",
    "])\n",
    "\n",
    "pip_6 = Pipeline([\n",
    "    ('scaler', StandardScaler()),\n",
    "    ('model', SVR(kernel='rbf'))\n",
    "])\n",
    "\n",
    "# ============================================================\n",
    "# MinMaxScaler\n",
    "# ============================================================\n",
    "\n",
    "pip_7 = Pipeline([\n",
    "    ('min_max_scaler', MinMaxScaler()),\n",
    "    ('model', LinearRegression())\n",
    "])\n",
    "\n",
    "pip_8 = Pipeline([\n",
    "    ('min_max_scaler', MinMaxScaler()),\n",
    "    ('model', ElasticNet())\n",
    "])\n",
    "\n",
    "pip_9 = Pipeline([\n",
    "    ('min_max_scaler', MinMaxScaler()),\n",
    "    ('model', DecisionTreeRegressor())\n",
    "])\n",
    "\n",
    "pip_10 = Pipeline([\n",
    "    ('min_max_scaler', MinMaxScaler()),\n",
    "    ('model', SVR(kernel='linear'))\n",
    "])\n",
    "\n",
    "pip_11 = Pipeline([\n",
    "    ('min_max_scaler', MinMaxScaler()),\n",
    "    ('model', SVR(kernel='poly'))\n",
    "])\n",
    "\n",
    "pip_12 = Pipeline([\n",
    "    ('min_max_scaler', MinMaxScaler()),\n",
    "    ('model', SVR(kernel='rbf'))\n",
    "])\n",
    "\n",
    "# ============================================================\n",
    "# Normalizer\n",
    "# ============================================================\n",
    "\n",
    "pip_13 = Pipeline([\n",
    "    ('normalizer', Normalizer()),\n",
    "    ('model', LinearRegression())\n",
    "])\n",
    "\n",
    "pip_14 = Pipeline([\n",
    "    ('normalizer', Normalizer()),\n",
    "    ('model', ElasticNet())\n",
    "])\n",
    "\n",
    "pip_15 = Pipeline([\n",
    "    ('normalizer', Normalizer()),\n",
    "    ('model', DecisionTreeRegressor())\n",
    "])\n",
    "\n",
    "pip_16 = Pipeline([\n",
    "    ('normalizer', Normalizer()),\n",
    "    ('model', SVR(kernel='linear'))\n",
    "])\n",
    "\n",
    "pip_17 = Pipeline([\n",
    "    ('normalizer', Normalizer()),\n",
    "    ('model', SVR(kernel='poly'))\n",
    "])\n",
    "\n",
    "pip_18 = Pipeline([\n",
    "    ('normalizer', Normalizer()),\n",
    "    ('model', SVR(kernel='rbf'))\n",
    "])"
   ]
  },
  {
   "cell_type": "markdown",
   "metadata": {
    "colab_type": "text",
    "id": "_M_4xgoMVsCK"
   },
   "source": [
    "## Comparação de modelos"
   ]
  },
  {
   "cell_type": "code",
   "execution_count": 115,
   "metadata": {
    "colab": {},
    "colab_type": "code",
    "id": "l5SOcB3UXgeF"
   },
   "outputs": [],
   "source": [
    "modelos = []\n",
    "\n",
    "modelos.append(('Linear Regression', LinearRegression()))\n",
    "modelos.append(('Decission Tree', DecisionTreeRegressor()))\n",
    "modelos.append(('Random Forest', RandomForestRegressor()))\n",
    "# modelos.append(('SVR Linear', SVR(kernel='linear')))\n",
    "# modelos.append(('SVR Poly', SVR(kernel='poly')))\n",
    "# modelos.append(('SVR Rbf', SVR(kernel='rbf')))\n",
    "\n",
    "# modelos.append(('scaler_lr', pip_1))\n",
    "# modelos.append(('scaler_en', pip_2))\n",
    "# modelos.append(('scaler_dtr', pip_3))\n",
    "# modelos.append(('scaler_svc_linear', pip_4))\n",
    "# modelos.append(('scaler_svc_poly', pip_5))\n",
    "# modelos.append(('scaler_svc_rbf', pip_6))\n",
    "\n",
    "# modelos.append(('minmax_lr', pip_7))\n",
    "# modelos.append(('minmax_en', pip_8))\n",
    "# modelos.append(('minmax_dtr', pip_9))\n",
    "# modelos.append(('minmax_svc_linear', pip_10))\n",
    "# modelos.append(('minmax_svc_poly', pip_11))\n",
    "# modelos.append(('minmax_svc_rbf', pip_12))\n",
    "\n",
    "# modelos.append(('normalizer_lr', pip_13))\n",
    "# modelos.append(('normalizer_en', pip_14))\n",
    "# modelos.append(('normalizer_dtr', pip_15))\n",
    "# modelos.append(('normalizer_svc_linear', pip_16))\n",
    "# modelos.append(('normalizer_svc_poly', pip_17))\n",
    "# modelos.append(('normalizer_svc_rbf', pip_18))"
   ]
  },
  {
   "cell_type": "markdown",
   "metadata": {
    "colab_type": "text",
    "id": "EqMgTYtT7aAP"
   },
   "source": [
    "## Scandard Scaler"
   ]
  },
  {
   "cell_type": "code",
   "execution_count": 116,
   "metadata": {
    "colab": {
     "base_uri": "https://localhost:8080/",
     "height": 527
    },
    "colab_type": "code",
    "executionInfo": {
     "elapsed": 54556,
     "status": "ok",
     "timestamp": 1566923124599,
     "user": {
      "displayName": "Leonardo Silva do Nascimento",
      "photoUrl": "https://lh3.googleusercontent.com/a-/AAuE7mBfPjf6kUTebmVb6nGFV6eWEBcWlC8wn9u0XC1TEg=s64",
      "userId": "10422304398321499472"
     },
     "user_tz": 180
    },
    "id": "-GLn8PH8fzOu",
    "outputId": "e7b22bfc-5888-4174-ad61-8b8e9aa152f4"
   },
   "outputs": [
    {
     "name": "stdout",
     "output_type": "stream",
     "text": [
      "                   RMSE\n",
      "Random Forest      0.79\n",
      "Linear Regression  0.81\n",
      "Decission Tree     1.10\n"
     ]
    },
    {
     "data": {
      "image/png": "[encoded data removed]",
      "text/plain": [
       "<Figure size 864x432 with 1 Axes>"
      ]
     },
     "metadata": {
      "needs_background": "light"
     },
     "output_type": "display_data"
    }
   ],
   "source": [
    "scaler = StandardScaler()\n",
    "\n",
    "df_scaler = pd.DataFrame(scaler.fit_transform(df), columns=df.columns)\n",
    "\n",
    "X, y = df_scaler.drop(['Weekly_Sales'], axis=1), df_scaler['Weekly_Sales']\n",
    "\n",
    "X_train, X_test, y_train, y_test = train_test_split(X, y, test_size=0.3, random_state=0)\n",
    "\n",
    "X_test, X_val, y_test, y_val = train_test_split(X_test, y_test, test_size=0.5, random_state=0)\n",
    "\n",
    "resultados = []\n",
    "\n",
    "for nome, modelo in modelos:\n",
    "    resultados.append(\n",
    "        (nome, model_accuracy(modelo, X_train, y_train))\n",
    "    )\n",
    "\n",
    "plot_metrics(resultados, 'RMSE')"
   ]
  },
  {
   "cell_type": "markdown",
   "metadata": {
    "colab_type": "text",
    "id": "AYlcYYhA7eVp"
   },
   "source": [
    "## MinMaxScaler"
   ]
  },
  {
   "cell_type": "code",
   "execution_count": 117,
   "metadata": {
    "colab": {
     "base_uri": "https://localhost:8080/",
     "height": 527
    },
    "colab_type": "code",
    "executionInfo": {
     "elapsed": 26027,
     "status": "ok",
     "timestamp": 1566923742958,
     "user": {
      "displayName": "Leonardo Silva do Nascimento",
      "photoUrl": "https://lh3.googleusercontent.com/a-/AAuE7mBfPjf6kUTebmVb6nGFV6eWEBcWlC8wn9u0XC1TEg=s64",
      "userId": "10422304398321499472"
     },
     "user_tz": 180
    },
    "id": "D1hzEVjv7hNp",
    "outputId": "9d6b6181-8ef4-4a60-deea-fd4f49b36981"
   },
   "outputs": [
    {
     "name": "stdout",
     "output_type": "stream",
     "text": [
      "                   RMSE\n",
      "Random Forest      0.17\n",
      "Linear Regression  0.18\n",
      "Decission Tree     0.24\n"
     ]
    },
    {
     "data": {
      "image/png": "[encoded data removed]",
      "text/plain": [
       "<Figure size 864x432 with 1 Axes>"
      ]
     },
     "metadata": {
      "needs_background": "light"
     },
     "output_type": "display_data"
    }
   ],
   "source": [
    "min_max_scaler = MinMaxScaler()\n",
    "\n",
    "df_scaler = pd.DataFrame(min_max_scaler.fit_transform(df), columns=df.columns)\n",
    "\n",
    "X, y = df_scaler.drop(['Weekly_Sales'], axis=1), df_scaler['Weekly_Sales']\n",
    "\n",
    "X_train, X_test, y_train, y_test = train_test_split(X, y, test_size=0.3, random_state=0)\n",
    "\n",
    "resultados = []\n",
    "\n",
    "for nome, modelo in modelos:\n",
    "    resultados.append(\n",
    "        (nome, model_accuracy(modelo, X_train, y_train))\n",
    "    )\n",
    "\n",
    "plot_metrics(resultados, 'RMSE')"
   ]
  },
  {
   "cell_type": "markdown",
   "metadata": {
    "colab_type": "text",
    "id": "BBH7hoev76S3"
   },
   "source": [
    "## Normalizer"
   ]
  },
  {
   "cell_type": "code",
   "execution_count": 118,
   "metadata": {
    "colab": {
     "base_uri": "https://localhost:8080/",
     "height": 527
    },
    "colab_type": "code",
    "executionInfo": {
     "elapsed": 770,
     "status": "ok",
     "timestamp": 1566924717882,
     "user": {
      "displayName": "Leonardo Silva do Nascimento",
      "photoUrl": "https://lh3.googleusercontent.com/a-/AAuE7mBfPjf6kUTebmVb6nGFV6eWEBcWlC8wn9u0XC1TEg=s64",
      "userId": "10422304398321499472"
     },
     "user_tz": 180
    },
    "id": "orMsnzeQ76rR",
    "outputId": "f812eedf-2c52-487d-d014-290a77d5de38"
   },
   "outputs": [
    {
     "name": "stdout",
     "output_type": "stream",
     "text": [
      "                   RMSE\n",
      "Linear Regression  0.00\n",
      "Random Forest      0.00\n",
      "Decission Tree     0.00\n"
     ]
    },
    {
     "data": {
      "image/png": "[encoded data removed]",
      "text/plain": [
       "<Figure size 864x432 with 1 Axes>"
      ]
     },
     "metadata": {
      "needs_background": "light"
     },
     "output_type": "display_data"
    }
   ],
   "source": [
    "normalizer = Normalizer()\n",
    "\n",
    "df_scaler = pd.DataFrame(normalizer.fit_transform(df), columns=df.columns)\n",
    "\n",
    "X, y = df_scaler.drop(['Weekly_Sales'], axis=1), df_scaler['Weekly_Sales']\n",
    "\n",
    "X_train, X_test, y_train, y_test = train_test_split(X, y, test_size=0.3, random_state=seed)\n",
    "\n",
    "resultados = []\n",
    "\n",
    "for nome, modelo in modelos:\n",
    "    resultados.append(\n",
    "        (nome, model_accuracy(modelo, X_train, y_train))\n",
    "    )\n",
    "\n",
    "plot_metrics(resultados, 'RMSE')"
   ]
  },
  {
   "cell_type": "markdown",
   "metadata": {},
   "source": [
    "## Z-Score"
   ]
  },
  {
   "cell_type": "code",
   "execution_count": 119,
   "metadata": {},
   "outputs": [
    {
     "name": "stdout",
     "output_type": "stream",
     "text": [
      "                   RMSE\n",
      "Random Forest      0.23\n",
      "Decission Tree     0.29\n",
      "Linear Regression  0.35\n"
     ]
    },
    {
     "data": {
      "image/png": "[encoded data removed]",
      "text/plain": [
       "<Figure size 864x432 with 1 Axes>"
      ]
     },
     "metadata": {
      "needs_background": "light"
     },
     "output_type": "display_data"
    }
   ],
   "source": [
    "X, y = df_scaler.drop(['Weekly_Sales'], axis=1), zscore(df_scaler['Weekly_Sales'])\n",
    "\n",
    "X_train, X_test, y_train, y_test = train_test_split(X, y, test_size=0.3, random_state=seed)\n",
    "\n",
    "resultados = []\n",
    "\n",
    "for nome, modelo in modelos:\n",
    "    resultados.append(\n",
    "        (nome, model_accuracy(modelo, X_train, y_train))\n",
    "    )\n",
    "\n",
    "plot_metrics(resultados, 'RMSE')"
   ]
  },
  {
   "cell_type": "markdown",
   "metadata": {
    "colab_type": "text",
    "id": "1tC7hRgRSNhN"
   },
   "source": [
    "## Random Forest MinMaxScaler"
   ]
  },
  {
   "cell_type": "code",
   "execution_count": 120,
   "metadata": {
    "colab": {
     "base_uri": "https://localhost:8080/",
     "height": 34
    },
    "colab_type": "code",
    "executionInfo": {
     "elapsed": 701,
     "status": "ok",
     "timestamp": 1568044348727,
     "user": {
      "displayName": "Leonardo Silva do Nascimento",
      "photoUrl": "https://lh3.googleusercontent.com/a-/AAuE7mBfPjf6kUTebmVb6nGFV6eWEBcWlC8wn9u0XC1TEg=s64",
      "userId": "10422304398321499472"
     },
     "user_tz": 180
    },
    "id": "njUeIHYG_bun",
    "outputId": "022a7174-2eb0-4911-9046-243cb506eff5"
   },
   "outputs": [
    {
     "name": "stdout",
     "output_type": "stream",
     "text": [
      "0.1610711182772202\n"
     ]
    }
   ],
   "source": [
    "min_max_scaler = MinMaxScaler()\n",
    "\n",
    "df_scaler = pd.DataFrame(min_max_scaler.fit_transform(df), columns=df.columns)\n",
    "\n",
    "X, y = df_scaler.drop(['Weekly_Sales'], axis=1), df_scaler['Weekly_Sales']\n",
    "\n",
    "X_train, X_test, y_train, y_test = train_test_split(X, y, test_size=0.3, random_state=0)\n",
    "\n",
    "model_1 = RandomForestRegressor()\n",
    "model_1.fit(X_train, y_train)\n",
    "\n",
    "y_pred_1 = model_1.predict(X_test)\n",
    "\n",
    "print(mean_squared_error(y_test, y_pred_1)**0.5)"
   ]
  },
  {
   "cell_type": "code",
   "execution_count": 121,
   "metadata": {
    "colab": {
     "base_uri": "https://localhost:8080/",
     "height": 204
    },
    "colab_type": "code",
    "executionInfo": {
     "elapsed": 551,
     "status": "ok",
     "timestamp": 1568044044026,
     "user": {
      "displayName": "Leonardo Silva do Nascimento",
      "photoUrl": "https://lh3.googleusercontent.com/a-/AAuE7mBfPjf6kUTebmVb6nGFV6eWEBcWlC8wn9u0XC1TEg=s64",
      "userId": "10422304398321499472"
     },
     "user_tz": 180
    },
    "id": "8hxAuB9-TXb1",
    "outputId": "e0b98fff-964a-402a-a156-6ffa00dad63e"
   },
   "outputs": [
    {
     "data": {
      "text/plain": [
       "(0.9053949836077991, 0.349041194981231)"
      ]
     },
     "execution_count": 121,
     "metadata": {},
     "output_type": "execute_result"
    }
   ],
   "source": [
    "model_1.score(X_train, y_train), model_1.score(X_test, y_test)"
   ]
  },
  {
   "cell_type": "code",
   "execution_count": 122,
   "metadata": {
    "colab": {
     "base_uri": "https://localhost:8080/",
     "height": 620
    },
    "colab_type": "code",
    "executionInfo": {
     "elapsed": 900,
     "status": "ok",
     "timestamp": 1568044060932,
     "user": {
      "displayName": "Leonardo Silva do Nascimento",
      "photoUrl": "https://lh3.googleusercontent.com/a-/AAuE7mBfPjf6kUTebmVb6nGFV6eWEBcWlC8wn9u0XC1TEg=s64",
      "userId": "10422304398321499472"
     },
     "user_tz": 180
    },
    "id": "LzLcPByMAFEU",
    "outputId": "43d8b3e5-d182-4762-9918-eca43263e796"
   },
   "outputs": [
    {
     "data": {
      "image/png": "[encoded data removed]",
      "text/plain": [
       "<Figure size 1440x720 with 1 Axes>"
      ]
     },
     "metadata": {
      "needs_background": "light"
     },
     "output_type": "display_data"
    }
   ],
   "source": [
    "plt.figure(figsize=(20, 10))\n",
    "\n",
    "plt.scatter(np.arange(y_test.shape[0]), np.sort(y_test))\n",
    "\n",
    "plt.plot(np.sort(y_pred_1), linewidth=3, color='r')\n",
    "\n",
    "plt.title('Random Forest Regressor (MinMaxScaler)', fontsize=24)\n",
    "\n",
    "plt.xlabel('Ordered values')\n",
    "plt.ylabel('Probability')\n",
    "\n",
    "plt.show()"
   ]
  },
  {
   "cell_type": "markdown",
   "metadata": {},
   "source": [
    "Overfitting"
   ]
  },
  {
   "cell_type": "markdown",
   "metadata": {},
   "source": [
    "## LinearRegression with Normalizer"
   ]
  },
  {
   "cell_type": "code",
   "execution_count": 123,
   "metadata": {},
   "outputs": [
    {
     "name": "stdout",
     "output_type": "stream",
     "text": [
      "2.2581692217495874e-05\n"
     ]
    }
   ],
   "source": [
    "normalizer = Normalizer()\n",
    "\n",
    "df_scaler = pd.DataFrame(normalizer.fit_transform(df), columns=df.columns)\n",
    "\n",
    "X, y = df_scaler.drop(['Weekly_Sales'], axis=1), df_scaler['Weekly_Sales']\n",
    "\n",
    "X_train, X_test, y_train, y_test = train_test_split(X, y, test_size=0.3, random_state=0)\n",
    "\n",
    "model_2 = LinearRegression()\n",
    "model_2.fit(X_train, y_train)\n",
    "\n",
    "y_pred_2 = model_2.predict(X_test)\n",
    "\n",
    "print(mean_squared_error(y_test, y_pred_2)**0.5)"
   ]
  },
  {
   "cell_type": "code",
   "execution_count": 124,
   "metadata": {},
   "outputs": [
    {
     "data": {
      "text/plain": [
       "(0.8962710338321676, -220647317.07874596)"
      ]
     },
     "execution_count": 124,
     "metadata": {},
     "output_type": "execute_result"
    }
   ],
   "source": [
    "model_2.score(X_train, y_train), model_1.score(X_test, y_test)"
   ]
  },
  {
   "cell_type": "code",
   "execution_count": 125,
   "metadata": {},
   "outputs": [
    {
     "data": {
      "image/png": "[encoded data removed]",
      "text/plain": [
       "<Figure size 1440x720 with 1 Axes>"
      ]
     },
     "metadata": {
      "needs_background": "light"
     },
     "output_type": "display_data"
    }
   ],
   "source": [
    "plt.figure(figsize=(20, 10))\n",
    "\n",
    "plt.scatter(np.arange(y_test.shape[0]), np.sort(y_test))\n",
    "\n",
    "plt.plot(np.sort(y_pred_2), linewidth=3, color='r')\n",
    "\n",
    "plt.title('Linear Regression (Normalizer)', fontsize=24)\n",
    "\n",
    "plt.xlabel('Ordered values')\n",
    "plt.ylabel('Probability')\n",
    "\n",
    "plt.show()"
   ]
  },
  {
   "cell_type": "markdown",
   "metadata": {},
   "source": [
    "Overfitting"
   ]
  },
  {
   "cell_type": "markdown",
   "metadata": {},
   "source": [
    "## RandomForest with target in Z-Score"
   ]
  },
  {
   "cell_type": "code",
   "execution_count": 164,
   "metadata": {},
   "outputs": [
    {
     "name": "stdout",
     "output_type": "stream",
     "text": [
      "0.24689301188103416\n"
     ]
    }
   ],
   "source": [
    "X, y = df_scaler.drop(['Weekly_Sales'], axis=1), zscore(df_scaler['Weekly_Sales'])\n",
    "\n",
    "X_train, X_test, y_train, y_test = train_test_split(X, y, test_size=0.3, random_state=seed)\n",
    "\n",
    "model_3 = RandomForestRegressor(random_state=seed)\n",
    "model_3.fit(X_train, y_train)\n",
    "\n",
    "y_pred_3 = model_3.predict(X_test)\n",
    "\n",
    "print(mean_squared_error(y_test, y_pred_3)**0.5)"
   ]
  },
  {
   "cell_type": "code",
   "execution_count": 165,
   "metadata": {},
   "outputs": [
    {
     "data": {
      "text/plain": [
       "(0.9904895435902505, 0.9365145773590471)"
      ]
     },
     "execution_count": 165,
     "metadata": {},
     "output_type": "execute_result"
    }
   ],
   "source": [
    "model_3.score(X_train, y_train), model_3.score(X_test, y_test)"
   ]
  },
  {
   "cell_type": "code",
   "execution_count": 166,
   "metadata": {},
   "outputs": [
    {
     "data": {
      "image/png": "[encoded data removed]",
      "text/plain": [
       "<Figure size 1440x720 with 1 Axes>"
      ]
     },
     "metadata": {
      "needs_background": "light"
     },
     "output_type": "display_data"
    }
   ],
   "source": [
    "plt.figure(figsize=(20, 10))\n",
    "\n",
    "plt.scatter(np.arange(y_test.shape[0]), np.sort(y_test))\n",
    "\n",
    "plt.plot(np.sort(y_pred_3), linewidth=3, color='r')\n",
    "\n",
    "plt.title('Random Forest Regressor (z-score)', fontsize=24)\n",
    "\n",
    "plt.xlabel('Ordered values')\n",
    "plt.ylabel('Probability')\n",
    "\n",
    "plt.show()"
   ]
  },
  {
   "cell_type": "markdown",
   "metadata": {},
   "source": [
    "Baseado no resultado dos scores, pode-se concluir que não overfiting nos dados. Por este motivo utilizaremos o modelo de RandomForest transformando a variável target com o z-score."
   ]
  },
  {
   "cell_type": "markdown",
   "metadata": {},
   "source": [
    "## GridSearchCV"
   ]
  },
  {
   "cell_type": "code",
   "execution_count": 169,
   "metadata": {},
   "outputs": [],
   "source": [
    "params = {\n",
    "    'n_estimators': np.arange(1, 101),\n",
    "    'max_depth': np.arange(1, 11)\n",
    "#     'min_samples_split': np.arange(2, 11),\n",
    "#     'min_samples_leaf': np.arange(2, 11),\n",
    "#     'min_weight_fraction_leaf': np.linspace(0, 0.5, 6),\n",
    "#     'max_features': np.arange(1, 11),\n",
    "#     'min_impurity_decrease': np.arange(1, 11, dtype=np.float)\n",
    "}"
   ]
  },
  {
   "cell_type": "code",
   "execution_count": 170,
   "metadata": {},
   "outputs": [
    {
     "data": {
      "text/plain": [
       "GridSearchCV(cv=10, error_score='raise-deprecating',\n",
       "       estimator=RandomForestRegressor(bootstrap=True, criterion='mse', max_depth=None,\n",
       "           max_features='auto', max_leaf_nodes=None,\n",
       "           min_impurity_decrease=0.0, min_impurity_split=None,\n",
       "           min_samples_leaf=1, min_samples_split=2,\n",
       "           min_weight_fraction_leaf=0.0, n_estimators='warn', n_jobs=None,\n",
       "           oob_score=False, random_state=314, verbose=0, warm_start=False),\n",
       "       fit_params=None, iid='warn', n_jobs=None,\n",
       "       param_grid={'n_estimators': array([  1,   2, ...,  99, 100]), 'max_depth': array([ 1,  2,  3,  4,  5,  6,  7,  8,  9, 10])},\n",
       "       pre_dispatch='2*n_jobs', refit=True, return_train_score='warn',\n",
       "       scoring=None, verbose=0)"
      ]
     },
     "execution_count": 170,
     "metadata": {},
     "output_type": "execute_result"
    }
   ],
   "source": [
    "model_4 = GridSearchCV(\n",
    "    RandomForestRegressor(random_state=seed), \n",
    "    param_grid=params,\n",
    "    cv=10\n",
    ")\n",
    "\n",
    "model_4.fit(X_train, y_train)"
   ]
  },
  {
   "cell_type": "code",
   "execution_count": 172,
   "metadata": {},
   "outputs": [
    {
     "data": {
      "text/plain": [
       "['../backup/model_4.gz']"
      ]
     },
     "execution_count": 172,
     "metadata": {},
     "output_type": "execute_result"
    }
   ],
   "source": [
    "joblib.dump(model_4, '../backup/model_4.gz', compress=True)"
   ]
  },
  {
   "cell_type": "code",
   "execution_count": 173,
   "metadata": {},
   "outputs": [
    {
     "data": {
      "text/plain": [
       "0.9490701017658737"
      ]
     },
     "execution_count": 173,
     "metadata": {},
     "output_type": "execute_result"
    }
   ],
   "source": [
    "model_4.best_score_"
   ]
  },
  {
   "cell_type": "code",
   "execution_count": 174,
   "metadata": {},
   "outputs": [
    {
     "data": {
      "text/plain": [
       "{'max_depth': 9, 'n_estimators': 41}"
      ]
     },
     "execution_count": 174,
     "metadata": {},
     "output_type": "execute_result"
    }
   ],
   "source": [
    "model_4.best_params_"
   ]
  },
  {
   "cell_type": "code",
   "execution_count": 176,
   "metadata": {},
   "outputs": [],
   "source": [
    "y_pred_4 = model_4.predict(X_test)"
   ]
  },
  {
   "cell_type": "code",
   "execution_count": 177,
   "metadata": {},
   "outputs": [
    {
     "data": {
      "text/plain": [
       "(0.993126575087691, 0.940945471100148)"
      ]
     },
     "execution_count": 177,
     "metadata": {},
     "output_type": "execute_result"
    }
   ],
   "source": [
    "model_4.score(X_train, y_train), model_4.score(X_test, y_test)"
   ]
  },
  {
   "cell_type": "code",
   "execution_count": null,
   "metadata": {},
   "outputs": [],
   "source": []
  }
 ],
 "metadata": {
  "colab": {
   "collapsed_sections": [
    "0jXUldrgZacW",
    "_M_4xgoMVsCK",
    "EqMgTYtT7aAP",
    "AYlcYYhA7eVp",
    "BBH7hoev76S3"
   ],
   "name": "work-regression.ipynb",
   "provenance": [],
   "version": "0.3.2"
  },
  "kernelspec": {
   "display_name": "Python 3",
   "language": "python",
   "name": "python3"
  },
  "language_info": {
   "codemirror_mode": {
    "name": "ipython",
    "version": 3
   },
   "file_extension": ".py",
   "mimetype": "text/x-python",
   "name": "python",
   "nbconvert_exporter": "python",
   "pygments_lexer": "ipython3",
   "version": "3.7.3"
  }
 },
 "nbformat": 4,
 "nbformat_minor": 2
}
